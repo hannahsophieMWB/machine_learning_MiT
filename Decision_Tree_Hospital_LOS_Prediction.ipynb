{
  "cells": [
    {
      "cell_type": "markdown",
      "metadata": {
        "id": "view-in-github",
        "colab_type": "text"
      },
      "source": [
        "<a href=\"https://colab.research.google.com/github/hannahsophieMWB/machine_learning_MiT/blob/main/Decision_Tree_Hospital_LOS_Prediction.ipynb\" target=\"_parent\"><img src=\"https://colab.research.google.com/assets/colab-badge.svg\" alt=\"Open In Colab\"/></a>"
      ]
    },
    {
      "cell_type": "markdown",
      "metadata": {
        "id": "QmmAY9ANJdiZ"
      },
      "source": [
        "# **Hospital Length of Stay (LOS) Prediction**"
      ]
    },
    {
      "cell_type": "markdown",
      "metadata": {
        "id": "pG7RImq5Jnzy"
      },
      "source": [
        "## **Context:**\n",
        "\n",
        "Hospital management is a vital area that gained a lot of attention during the COVID-19 pandemic. **Inefficient distribution of resources like beds, ventilators might lead to a lot of complications**. However, this can be mitigated by **predicting the length of stay (LOS) of a patient before getting admitted**. Once this is determined, the hospital can plan a suitable treatment, resources, and staff to reduce the LOS and increase the chances of recovery. The rooms and bed can also be planned in accordance with that.\n",
        "\n",
        "**HealthPlus hospital has been incurring a lot of losses in revenue and life due to its inefficient management system.** They have been unsuccessful in allocating pieces of equipment, beds, and hospital staff fairly. **A system that could estimate the length of stay (LOS) of a patient can solve this problem to a great extent.**"
      ]
    },
    {
      "cell_type": "markdown",
      "metadata": {
        "id": "jDFFGBh5JuM_"
      },
      "source": [
        "## **Objective:**\n",
        "\n",
        "As a Data Scientist, you have been hired by HealthPlus to analyze the data, find out **what factors affect the LOS the most, and come up with a machine learning model which can predict the LOS of a patient** using the data available during admission and after running a few tests. Also, **bring about useful insights and policies from the data, which can help the hospital to improve their health care infrastructure and revenue.**"
      ]
    },
    {
      "cell_type": "markdown",
      "metadata": {
        "id": "BY6qQyYnn4av"
      },
      "source": [
        "## **Data Dictionary:**\n",
        "\n",
        "The data contains various information recorded during the time of admission of the patient. It only contains **records of patients who were admitted to the hospital.** The detailed data dictionary is given below:\n",
        "\n",
        "\n",
        "* **patientid**: Patient ID\n",
        "* **Age**: Range of age of the patient\n",
        "* **gender**: Gender of the patient\n",
        "* **Type of Admission**: Trauma, emergency or urgent\n",
        "* **Severity of Illness**: Extreme, moderate, or minor\n",
        "* **health_condition**s: Any previous health conditions suffered by the patient\n",
        "* **Visitors with Patient**: The number of patients who accompany the patient\n",
        "* **Insurance**: Does the patient have health insurance or not?\n",
        "* **Admission_Deposit**: The deposit paid by the patient during admission\n",
        "* **Stay (in days)**: The number of days that the patient has stayed in the hospital. This is the **target variable**\n",
        "* **Available Extra Rooms in Hospital**: The number of rooms available during admission\n",
        "* **Department**: The department which will be treating the patient\n",
        "* **Ward_Facility_Code**: The code of the ward facility in which the patient will be admitted\n",
        "* **doctor_name**: The doctor who will be treating the patient\n",
        "* **staff_available**: The number of staff who are not occupied at the moment in the ward"
      ]
    },
    {
      "cell_type": "markdown",
      "metadata": {
        "id": "1HwCLXEdleNm"
      },
      "source": [
        "## **Approach to solve the problem:**\n",
        "\n",
        "1. Import the necessary libraries\n",
        "2. Read the dataset and get an overview\n",
        "3. Exploratory data analysis - a. Univariate b. Bivariate\n",
        "4. Data preprocessing if any\n",
        "5. Define the performance metric and build ML models\n",
        "6. Checking for assumptions\n",
        "7. Compare models and determine the best one\n",
        "8. Observations and business insights"
      ]
    },
    {
      "cell_type": "markdown",
      "metadata": {
        "id": "vh6pbSWLJ7pT"
      },
      "source": [
        "## **Importing Libraries**"
      ]
    },
    {
      "cell_type": "code",
      "execution_count": null,
      "metadata": {
        "ExecuteTime": {
          "end_time": "2023-03-30T07:17:16.023854Z",
          "start_time": "2023-03-30T07:17:10.963852Z"
        },
        "id": "tu98q-R-KFfP"
      },
      "outputs": [],
      "source": [
        "import pandas as pd\n",
        "import numpy as np\n",
        "import matplotlib.pyplot as plt\n",
        "import seaborn as sns\n",
        "\n",
        "import warnings\n",
        "warnings.filterwarnings(\"ignore\")\n",
        "\n",
        "# Removes the limit for the number of displayed columns\n",
        "pd.set_option(\"display.max_columns\", None)\n",
        "\n",
        "# Sets the limit for the number of displayed rows\n",
        "pd.set_option(\"display.max_rows\", 200)\n",
        "\n",
        "# To build models for prediction\n",
        "from sklearn.model_selection import train_test_split, cross_val_score, KFold\n",
        "from sklearn.linear_model import LinearRegression, Ridge, Lasso, ElasticNet\n",
        "from sklearn.tree import DecisionTreeRegressor\n",
        "from sklearn.ensemble import RandomForestRegressor,BaggingRegressor\n",
        "\n",
        "# To encode categorical variables\n",
        "from sklearn.preprocessing import LabelEncoder\n",
        "\n",
        "# For tuning the model\n",
        "from sklearn.model_selection import GridSearchCV\n",
        "\n",
        "# To check model performance\n",
        "from sklearn.metrics import make_scorer,mean_squared_error, r2_score, mean_absolute_error"
      ]
    },
    {
      "cell_type": "code",
      "execution_count": null,
      "metadata": {
        "ExecuteTime": {
          "end_time": "2023-03-30T07:17:16.913928Z",
          "start_time": "2023-03-30T07:17:16.025201Z"
        },
        "id": "VvautAjCU6Im"
      },
      "outputs": [],
      "source": [
        "# Read the healthcare dataset file\n",
        "data = pd.read_csv(\"healthcare_data.csv\")"
      ]
    },
    {
      "cell_type": "code",
      "execution_count": null,
      "metadata": {
        "ExecuteTime": {
          "end_time": "2023-03-30T07:17:16.955343Z",
          "start_time": "2023-03-30T07:17:16.913928Z"
        },
        "id": "HAW7LbQGDzc_"
      },
      "outputs": [],
      "source": [
        "# Copying data to another variable to avoid any changes to original data\n",
        "same_data = data.copy()"
      ]
    },
    {
      "cell_type": "markdown",
      "metadata": {
        "id": "uUEuNqtbPVT0"
      },
      "source": [
        "## **Data Overview**"
      ]
    },
    {
      "cell_type": "code",
      "execution_count": null,
      "metadata": {
        "ExecuteTime": {
          "end_time": "2023-03-30T07:17:17.007526Z",
          "start_time": "2023-03-30T07:17:16.961864Z"
        },
        "id": "1WBP3qyFFlAM",
        "outputId": "39d7d9cd-52e7-4455-f77f-6cb1c3dc1782"
      },
      "outputs": [
        {
          "data": {
            "text/html": [
              "<div>\n",
              "<style scoped>\n",
              "    .dataframe tbody tr th:only-of-type {\n",
              "        vertical-align: middle;\n",
              "    }\n",
              "\n",
              "    .dataframe tbody tr th {\n",
              "        vertical-align: top;\n",
              "    }\n",
              "\n",
              "    .dataframe thead th {\n",
              "        text-align: right;\n",
              "    }\n",
              "</style>\n",
              "<table border=\"1\" class=\"dataframe\">\n",
              "  <thead>\n",
              "    <tr style=\"text-align: right;\">\n",
              "      <th></th>\n",
              "      <th>Available Extra Rooms in Hospital</th>\n",
              "      <th>Department</th>\n",
              "      <th>Ward_Facility_Code</th>\n",
              "      <th>doctor_name</th>\n",
              "      <th>staff_available</th>\n",
              "      <th>patientid</th>\n",
              "      <th>Age</th>\n",
              "      <th>gender</th>\n",
              "      <th>Type of Admission</th>\n",
              "      <th>Severity of Illness</th>\n",
              "      <th>health_conditions</th>\n",
              "      <th>Visitors with Patient</th>\n",
              "      <th>Insurance</th>\n",
              "      <th>Admission_Deposit</th>\n",
              "      <th>Stay (in days)</th>\n",
              "    </tr>\n",
              "  </thead>\n",
              "  <tbody>\n",
              "    <tr>\n",
              "      <th>0</th>\n",
              "      <td>4</td>\n",
              "      <td>gynecology</td>\n",
              "      <td>D</td>\n",
              "      <td>Dr Sophia</td>\n",
              "      <td>0</td>\n",
              "      <td>33070</td>\n",
              "      <td>41-50</td>\n",
              "      <td>Female</td>\n",
              "      <td>Trauma</td>\n",
              "      <td>Extreme</td>\n",
              "      <td>Diabetes</td>\n",
              "      <td>4</td>\n",
              "      <td>Yes</td>\n",
              "      <td>2966.408696</td>\n",
              "      <td>8</td>\n",
              "    </tr>\n",
              "    <tr>\n",
              "      <th>1</th>\n",
              "      <td>4</td>\n",
              "      <td>gynecology</td>\n",
              "      <td>B</td>\n",
              "      <td>Dr Sophia</td>\n",
              "      <td>2</td>\n",
              "      <td>34808</td>\n",
              "      <td>31-40</td>\n",
              "      <td>Female</td>\n",
              "      <td>Trauma</td>\n",
              "      <td>Minor</td>\n",
              "      <td>Heart disease</td>\n",
              "      <td>2</td>\n",
              "      <td>No</td>\n",
              "      <td>3554.835677</td>\n",
              "      <td>9</td>\n",
              "    </tr>\n",
              "    <tr>\n",
              "      <th>2</th>\n",
              "      <td>2</td>\n",
              "      <td>gynecology</td>\n",
              "      <td>B</td>\n",
              "      <td>Dr Sophia</td>\n",
              "      <td>8</td>\n",
              "      <td>44577</td>\n",
              "      <td>21-30</td>\n",
              "      <td>Female</td>\n",
              "      <td>Trauma</td>\n",
              "      <td>Extreme</td>\n",
              "      <td>Diabetes</td>\n",
              "      <td>2</td>\n",
              "      <td>Yes</td>\n",
              "      <td>5624.733654</td>\n",
              "      <td>7</td>\n",
              "    </tr>\n",
              "    <tr>\n",
              "      <th>3</th>\n",
              "      <td>4</td>\n",
              "      <td>gynecology</td>\n",
              "      <td>D</td>\n",
              "      <td>Dr Olivia</td>\n",
              "      <td>7</td>\n",
              "      <td>3695</td>\n",
              "      <td>31-40</td>\n",
              "      <td>Female</td>\n",
              "      <td>Urgent</td>\n",
              "      <td>Moderate</td>\n",
              "      <td>None</td>\n",
              "      <td>4</td>\n",
              "      <td>No</td>\n",
              "      <td>4814.149231</td>\n",
              "      <td>8</td>\n",
              "    </tr>\n",
              "    <tr>\n",
              "      <th>4</th>\n",
              "      <td>2</td>\n",
              "      <td>anesthesia</td>\n",
              "      <td>E</td>\n",
              "      <td>Dr Mark</td>\n",
              "      <td>10</td>\n",
              "      <td>108956</td>\n",
              "      <td>71-80</td>\n",
              "      <td>Male</td>\n",
              "      <td>Trauma</td>\n",
              "      <td>Moderate</td>\n",
              "      <td>Diabetes</td>\n",
              "      <td>2</td>\n",
              "      <td>No</td>\n",
              "      <td>5169.269637</td>\n",
              "      <td>34</td>\n",
              "    </tr>\n",
              "  </tbody>\n",
              "</table>\n",
              "</div>"
            ],
            "text/plain": [
              "   Available Extra Rooms in Hospital  Department Ward_Facility_Code  \\\n",
              "0                                  4  gynecology                  D   \n",
              "1                                  4  gynecology                  B   \n",
              "2                                  2  gynecology                  B   \n",
              "3                                  4  gynecology                  D   \n",
              "4                                  2  anesthesia                  E   \n",
              "\n",
              "  doctor_name  staff_available  patientid    Age  gender Type of Admission  \\\n",
              "0   Dr Sophia                0      33070  41-50  Female            Trauma   \n",
              "1   Dr Sophia                2      34808  31-40  Female            Trauma   \n",
              "2   Dr Sophia                8      44577  21-30  Female            Trauma   \n",
              "3   Dr Olivia                7       3695  31-40  Female            Urgent   \n",
              "4     Dr Mark               10     108956  71-80    Male            Trauma   \n",
              "\n",
              "  Severity of Illness health_conditions  Visitors with Patient Insurance  \\\n",
              "0             Extreme          Diabetes                      4       Yes   \n",
              "1               Minor     Heart disease                      2        No   \n",
              "2             Extreme          Diabetes                      2       Yes   \n",
              "3            Moderate              None                      4        No   \n",
              "4            Moderate          Diabetes                      2        No   \n",
              "\n",
              "   Admission_Deposit  Stay (in days)  \n",
              "0        2966.408696               8  \n",
              "1        3554.835677               9  \n",
              "2        5624.733654               7  \n",
              "3        4814.149231               8  \n",
              "4        5169.269637              34  "
            ]
          },
          "execution_count": 4,
          "metadata": {},
          "output_type": "execute_result"
        }
      ],
      "source": [
        "# View the first 5 rows of the dataset\n",
        "data.head()"
      ]
    },
    {
      "cell_type": "code",
      "execution_count": null,
      "metadata": {
        "ExecuteTime": {
          "end_time": "2023-03-30T07:17:17.039227Z",
          "start_time": "2023-03-30T07:17:17.009482Z"
        },
        "id": "G-JcE75QFv6o",
        "outputId": "97c0cbb1-c66a-4311-a7ef-bdada0c87f76"
      },
      "outputs": [
        {
          "data": {
            "text/html": [
              "<div>\n",
              "<style scoped>\n",
              "    .dataframe tbody tr th:only-of-type {\n",
              "        vertical-align: middle;\n",
              "    }\n",
              "\n",
              "    .dataframe tbody tr th {\n",
              "        vertical-align: top;\n",
              "    }\n",
              "\n",
              "    .dataframe thead th {\n",
              "        text-align: right;\n",
              "    }\n",
              "</style>\n",
              "<table border=\"1\" class=\"dataframe\">\n",
              "  <thead>\n",
              "    <tr style=\"text-align: right;\">\n",
              "      <th></th>\n",
              "      <th>Available Extra Rooms in Hospital</th>\n",
              "      <th>Department</th>\n",
              "      <th>Ward_Facility_Code</th>\n",
              "      <th>doctor_name</th>\n",
              "      <th>staff_available</th>\n",
              "      <th>patientid</th>\n",
              "      <th>Age</th>\n",
              "      <th>gender</th>\n",
              "      <th>Type of Admission</th>\n",
              "      <th>Severity of Illness</th>\n",
              "      <th>health_conditions</th>\n",
              "      <th>Visitors with Patient</th>\n",
              "      <th>Insurance</th>\n",
              "      <th>Admission_Deposit</th>\n",
              "      <th>Stay (in days)</th>\n",
              "    </tr>\n",
              "  </thead>\n",
              "  <tbody>\n",
              "    <tr>\n",
              "      <th>499995</th>\n",
              "      <td>4</td>\n",
              "      <td>gynecology</td>\n",
              "      <td>F</td>\n",
              "      <td>Dr Sarah</td>\n",
              "      <td>2</td>\n",
              "      <td>43001</td>\n",
              "      <td>11-20</td>\n",
              "      <td>Female</td>\n",
              "      <td>Trauma</td>\n",
              "      <td>Minor</td>\n",
              "      <td>High Blood Pressure</td>\n",
              "      <td>3</td>\n",
              "      <td>No</td>\n",
              "      <td>4105.795901</td>\n",
              "      <td>10</td>\n",
              "    </tr>\n",
              "    <tr>\n",
              "      <th>499996</th>\n",
              "      <td>13</td>\n",
              "      <td>gynecology</td>\n",
              "      <td>F</td>\n",
              "      <td>Dr Olivia</td>\n",
              "      <td>8</td>\n",
              "      <td>85601</td>\n",
              "      <td>31-40</td>\n",
              "      <td>Female</td>\n",
              "      <td>Emergency</td>\n",
              "      <td>Moderate</td>\n",
              "      <td>Other</td>\n",
              "      <td>2</td>\n",
              "      <td>No</td>\n",
              "      <td>4631.550257</td>\n",
              "      <td>11</td>\n",
              "    </tr>\n",
              "    <tr>\n",
              "      <th>499997</th>\n",
              "      <td>2</td>\n",
              "      <td>gynecology</td>\n",
              "      <td>B</td>\n",
              "      <td>Dr Sarah</td>\n",
              "      <td>3</td>\n",
              "      <td>22447</td>\n",
              "      <td>11-20</td>\n",
              "      <td>Female</td>\n",
              "      <td>Emergency</td>\n",
              "      <td>Moderate</td>\n",
              "      <td>High Blood Pressure</td>\n",
              "      <td>2</td>\n",
              "      <td>No</td>\n",
              "      <td>5456.930075</td>\n",
              "      <td>8</td>\n",
              "    </tr>\n",
              "    <tr>\n",
              "      <th>499998</th>\n",
              "      <td>2</td>\n",
              "      <td>radiotherapy</td>\n",
              "      <td>A</td>\n",
              "      <td>Dr John</td>\n",
              "      <td>1</td>\n",
              "      <td>29957</td>\n",
              "      <td>61-70</td>\n",
              "      <td>Female</td>\n",
              "      <td>Trauma</td>\n",
              "      <td>Extreme</td>\n",
              "      <td>Diabetes</td>\n",
              "      <td>2</td>\n",
              "      <td>No</td>\n",
              "      <td>4694.127772</td>\n",
              "      <td>23</td>\n",
              "    </tr>\n",
              "    <tr>\n",
              "      <th>499999</th>\n",
              "      <td>3</td>\n",
              "      <td>gynecology</td>\n",
              "      <td>F</td>\n",
              "      <td>Dr Sophia</td>\n",
              "      <td>3</td>\n",
              "      <td>45008</td>\n",
              "      <td>41-50</td>\n",
              "      <td>Female</td>\n",
              "      <td>Trauma</td>\n",
              "      <td>Moderate</td>\n",
              "      <td>Heart disease</td>\n",
              "      <td>4</td>\n",
              "      <td>Yes</td>\n",
              "      <td>4713.868519</td>\n",
              "      <td>10</td>\n",
              "    </tr>\n",
              "  </tbody>\n",
              "</table>\n",
              "</div>"
            ],
            "text/plain": [
              "        Available Extra Rooms in Hospital    Department Ward_Facility_Code  \\\n",
              "499995                                  4    gynecology                  F   \n",
              "499996                                 13    gynecology                  F   \n",
              "499997                                  2    gynecology                  B   \n",
              "499998                                  2  radiotherapy                  A   \n",
              "499999                                  3    gynecology                  F   \n",
              "\n",
              "       doctor_name  staff_available  patientid    Age  gender  \\\n",
              "499995    Dr Sarah                2      43001  11-20  Female   \n",
              "499996   Dr Olivia                8      85601  31-40  Female   \n",
              "499997    Dr Sarah                3      22447  11-20  Female   \n",
              "499998     Dr John                1      29957  61-70  Female   \n",
              "499999   Dr Sophia                3      45008  41-50  Female   \n",
              "\n",
              "       Type of Admission Severity of Illness    health_conditions  \\\n",
              "499995            Trauma               Minor  High Blood Pressure   \n",
              "499996         Emergency            Moderate                Other   \n",
              "499997         Emergency            Moderate  High Blood Pressure   \n",
              "499998            Trauma             Extreme             Diabetes   \n",
              "499999            Trauma            Moderate        Heart disease   \n",
              "\n",
              "        Visitors with Patient Insurance  Admission_Deposit  Stay (in days)  \n",
              "499995                      3        No        4105.795901              10  \n",
              "499996                      2        No        4631.550257              11  \n",
              "499997                      2        No        5456.930075               8  \n",
              "499998                      2        No        4694.127772              23  \n",
              "499999                      4       Yes        4713.868519              10  "
            ]
          },
          "execution_count": 5,
          "metadata": {},
          "output_type": "execute_result"
        }
      ],
      "source": [
        "# View the last 5 rows of the dataset\n",
        "data.tail()"
      ]
    },
    {
      "cell_type": "code",
      "execution_count": null,
      "metadata": {
        "ExecuteTime": {
          "end_time": "2023-03-30T07:17:17.055303Z",
          "start_time": "2023-03-30T07:17:17.039865Z"
        },
        "id": "oh0JY34cdYHB",
        "outputId": "88ea14de-7d19-4379-f015-e1b26362fc03"
      },
      "outputs": [
        {
          "data": {
            "text/plain": [
              "(500000, 15)"
            ]
          },
          "execution_count": 6,
          "metadata": {},
          "output_type": "execute_result"
        }
      ],
      "source": [
        "# Understand the shape of the data\n",
        "data.shape"
      ]
    },
    {
      "cell_type": "markdown",
      "metadata": {
        "id": "JKUvaKzkdjUc"
      },
      "source": [
        "- The dataset has **5,00,000 rows and 15 columns.**"
      ]
    },
    {
      "cell_type": "code",
      "execution_count": null,
      "metadata": {
        "ExecuteTime": {
          "end_time": "2023-03-30T07:17:17.722023Z",
          "start_time": "2023-03-30T07:17:17.057386Z"
        },
        "id": "shfF1UM7Ke5E",
        "outputId": "630c0bd5-d11f-4cc8-cfac-45947e34c66a"
      },
      "outputs": [
        {
          "name": "stdout",
          "output_type": "stream",
          "text": [
            "<class 'pandas.core.frame.DataFrame'>\n",
            "RangeIndex: 500000 entries, 0 to 499999\n",
            "Data columns (total 15 columns):\n",
            " #   Column                             Non-Null Count   Dtype  \n",
            "---  ------                             --------------   -----  \n",
            " 0   Available Extra Rooms in Hospital  500000 non-null  int64  \n",
            " 1   Department                         500000 non-null  object \n",
            " 2   Ward_Facility_Code                 500000 non-null  object \n",
            " 3   doctor_name                        500000 non-null  object \n",
            " 4   staff_available                    500000 non-null  int64  \n",
            " 5   patientid                          500000 non-null  int64  \n",
            " 6   Age                                500000 non-null  object \n",
            " 7   gender                             500000 non-null  object \n",
            " 8   Type of Admission                  500000 non-null  object \n",
            " 9   Severity of Illness                500000 non-null  object \n",
            " 10  health_conditions                  500000 non-null  object \n",
            " 11  Visitors with Patient              500000 non-null  int64  \n",
            " 12  Insurance                          500000 non-null  object \n",
            " 13  Admission_Deposit                  500000 non-null  float64\n",
            " 14  Stay (in days)                     500000 non-null  int64  \n",
            "dtypes: float64(1), int64(5), object(9)\n",
            "memory usage: 57.2+ MB\n"
          ]
        }
      ],
      "source": [
        "# Checking the info of the data\n",
        "data.info()"
      ]
    },
    {
      "cell_type": "markdown",
      "metadata": {
        "id": "1LQeBs4sPHNK"
      },
      "source": [
        "**Observations:**\n",
        "\n",
        "-  Available Extra Rooms in Hospital, staff_available, patientid, Visitors with Patient, Admission_Deposit, and Stay (in days) are of **numeric data type** and the rest of the columns are of **object data type**.\n",
        "- The number of non-null values is the same as the total number of entries in the data, i.e., **there are no null values.**\n",
        "- The column patientid is an identifier for patients in the data. This column will not help with our analysis so we can drop it."
      ]
    },
    {
      "cell_type": "code",
      "execution_count": null,
      "metadata": {
        "ExecuteTime": {
          "end_time": "2023-03-30T07:17:17.771802Z",
          "start_time": "2023-03-30T07:17:17.724472Z"
        },
        "id": "z5Xba7tEO9KE",
        "outputId": "16d8626a-c3fd-4bd9-d9ac-9368ef12a6bb"
      },
      "outputs": [
        {
          "data": {
            "text/plain": [
              "126719    21\n",
              "125695    21\n",
              "44572     21\n",
              "126623    21\n",
              "125625    19\n",
              "          ..\n",
              "37634      1\n",
              "91436      1\n",
              "118936     1\n",
              "52366      1\n",
              "105506     1\n",
              "Name: patientid, Length: 126399, dtype: int64"
            ]
          },
          "execution_count": 8,
          "metadata": {},
          "output_type": "execute_result"
        }
      ],
      "source": [
        "# To view patientid and the number of times they have been admitted to the hospital\n",
        "data['patientid'].value_counts()"
      ]
    },
    {
      "cell_type": "markdown",
      "metadata": {
        "id": "4pgZWSL-1vS5"
      },
      "source": [
        "**Observation:**\n",
        "\n",
        "- **The maximum number of times the same patient admitted to the hospital is 21 and minimum is 1.**"
      ]
    },
    {
      "cell_type": "code",
      "execution_count": null,
      "metadata": {
        "ExecuteTime": {
          "end_time": "2023-03-30T07:17:17.839479Z",
          "start_time": "2023-03-30T07:17:17.772407Z"
        },
        "id": "HM40YACV7O5j"
      },
      "outputs": [],
      "source": [
        "# Dropping patientid from the data as it is an identifier and will not add value to the analysis\n",
        "data=data.drop(columns=[\"patientid\"])"
      ]
    },
    {
      "cell_type": "code",
      "execution_count": null,
      "metadata": {
        "ExecuteTime": {
          "end_time": "2023-03-30T07:17:18.283951Z",
          "start_time": "2023-03-30T07:17:17.839479Z"
        },
        "id": "z73h7AF9r1PM",
        "outputId": "5a0b84a3-1f8f-487d-d5e0-888854ccf16c"
      },
      "outputs": [
        {
          "data": {
            "text/plain": [
              "0"
            ]
          },
          "execution_count": 10,
          "metadata": {},
          "output_type": "execute_result"
        }
      ],
      "source": [
        "# Checking for duplicate values in the data\n",
        "data.duplicated().sum()"
      ]
    },
    {
      "cell_type": "markdown",
      "metadata": {
        "id": "kp4_mcJjP3LE"
      },
      "source": [
        "**Observation:**\n",
        "- Data contains unique rows. There is no need to remove any rows."
      ]
    },
    {
      "cell_type": "code",
      "execution_count": null,
      "metadata": {
        "ExecuteTime": {
          "end_time": "2023-03-30T07:17:18.433111Z",
          "start_time": "2023-03-30T07:17:18.288026Z"
        },
        "id": "QIvXLbuuSuEE",
        "outputId": "4aea3803-95f2-477a-b4d8-b89c5243c888"
      },
      "outputs": [
        {
          "data": {
            "text/html": [
              "<div>\n",
              "<style scoped>\n",
              "    .dataframe tbody tr th:only-of-type {\n",
              "        vertical-align: middle;\n",
              "    }\n",
              "\n",
              "    .dataframe tbody tr th {\n",
              "        vertical-align: top;\n",
              "    }\n",
              "\n",
              "    .dataframe thead th {\n",
              "        text-align: right;\n",
              "    }\n",
              "</style>\n",
              "<table border=\"1\" class=\"dataframe\">\n",
              "  <thead>\n",
              "    <tr style=\"text-align: right;\">\n",
              "      <th></th>\n",
              "      <th>count</th>\n",
              "      <th>mean</th>\n",
              "      <th>std</th>\n",
              "      <th>min</th>\n",
              "      <th>25%</th>\n",
              "      <th>50%</th>\n",
              "      <th>75%</th>\n",
              "      <th>max</th>\n",
              "    </tr>\n",
              "  </thead>\n",
              "  <tbody>\n",
              "    <tr>\n",
              "      <th>Available Extra Rooms in Hospital</th>\n",
              "      <td>500000.0</td>\n",
              "      <td>3.638800</td>\n",
              "      <td>2.698124</td>\n",
              "      <td>0.000000</td>\n",
              "      <td>2.000000</td>\n",
              "      <td>3.000000</td>\n",
              "      <td>4.000000</td>\n",
              "      <td>24.00000</td>\n",
              "    </tr>\n",
              "    <tr>\n",
              "      <th>staff_available</th>\n",
              "      <td>500000.0</td>\n",
              "      <td>5.020470</td>\n",
              "      <td>3.158103</td>\n",
              "      <td>0.000000</td>\n",
              "      <td>2.000000</td>\n",
              "      <td>5.000000</td>\n",
              "      <td>8.000000</td>\n",
              "      <td>10.00000</td>\n",
              "    </tr>\n",
              "    <tr>\n",
              "      <th>Visitors with Patient</th>\n",
              "      <td>500000.0</td>\n",
              "      <td>3.549414</td>\n",
              "      <td>2.241054</td>\n",
              "      <td>0.000000</td>\n",
              "      <td>2.000000</td>\n",
              "      <td>3.000000</td>\n",
              "      <td>4.000000</td>\n",
              "      <td>32.00000</td>\n",
              "    </tr>\n",
              "    <tr>\n",
              "      <th>Admission_Deposit</th>\n",
              "      <td>500000.0</td>\n",
              "      <td>4722.315734</td>\n",
              "      <td>1047.324220</td>\n",
              "      <td>1654.005148</td>\n",
              "      <td>4071.714532</td>\n",
              "      <td>4627.003792</td>\n",
              "      <td>5091.612717</td>\n",
              "      <td>10104.72639</td>\n",
              "    </tr>\n",
              "    <tr>\n",
              "      <th>Stay (in days)</th>\n",
              "      <td>500000.0</td>\n",
              "      <td>12.381062</td>\n",
              "      <td>7.913174</td>\n",
              "      <td>3.000000</td>\n",
              "      <td>8.000000</td>\n",
              "      <td>9.000000</td>\n",
              "      <td>11.000000</td>\n",
              "      <td>51.00000</td>\n",
              "    </tr>\n",
              "  </tbody>\n",
              "</table>\n",
              "</div>"
            ],
            "text/plain": [
              "                                      count         mean          std  \\\n",
              "Available Extra Rooms in Hospital  500000.0     3.638800     2.698124   \n",
              "staff_available                    500000.0     5.020470     3.158103   \n",
              "Visitors with Patient              500000.0     3.549414     2.241054   \n",
              "Admission_Deposit                  500000.0  4722.315734  1047.324220   \n",
              "Stay (in days)                     500000.0    12.381062     7.913174   \n",
              "\n",
              "                                           min          25%          50%  \\\n",
              "Available Extra Rooms in Hospital     0.000000     2.000000     3.000000   \n",
              "staff_available                       0.000000     2.000000     5.000000   \n",
              "Visitors with Patient                 0.000000     2.000000     3.000000   \n",
              "Admission_Deposit                  1654.005148  4071.714532  4627.003792   \n",
              "Stay (in days)                        3.000000     8.000000     9.000000   \n",
              "\n",
              "                                           75%          max  \n",
              "Available Extra Rooms in Hospital     4.000000     24.00000  \n",
              "staff_available                       8.000000     10.00000  \n",
              "Visitors with Patient                 4.000000     32.00000  \n",
              "Admission_Deposit                  5091.612717  10104.72639  \n",
              "Stay (in days)                       11.000000     51.00000  "
            ]
          },
          "execution_count": 11,
          "metadata": {},
          "output_type": "execute_result"
        }
      ],
      "source": [
        "# Checking the descriptive statistics of the columns\n",
        "data.describe().T"
      ]
    },
    {
      "cell_type": "markdown",
      "metadata": {
        "id": "sTfliAV--0q5"
      },
      "source": [
        "**Observations:**\n",
        "\n",
        "* There are around **3 rooms available in the hospital on average** and there are times when the hospital is full and there are no rooms available (minimum value is 0). The **maximum number of rooms available in the hospital is 24**.\n",
        "* **On average, there are around 5 staff personnel available to treat the new patients** but it can also be zero at times. The maximum number of staff available in the hospital is 10.\n",
        "* **On average, around 3 visitors accompany the patient.** Some patients come on their own (minimum value is zero) and a few cases have 32 visitors. It will be interesting to see if there is any relationship between the number of visitors and the severity of the patient.\n",
        "* **The average admission deposit lies around 4,722 dollars and a minimum of 1,654 dollars is paid on every admission.**\n",
        "* **Patient's stay ranges from 3 to 51 days.** There might be outliers in this variable. The median length of stay is 9 days."
      ]
    },
    {
      "cell_type": "code",
      "execution_count": null,
      "metadata": {
        "ExecuteTime": {
          "end_time": "2023-03-30T07:17:18.858417Z",
          "start_time": "2023-03-30T07:17:18.437099Z"
        },
        "id": "wYe3XYCFS1ru",
        "outputId": "10169037-1309-45c8-8f50-6482225e528d"
      },
      "outputs": [
        {
          "name": "stdout",
          "output_type": "stream",
          "text": [
            "gynecology            0.686956\n",
            "radiotherapy          0.168630\n",
            "anesthesia            0.088358\n",
            "TB & Chest disease    0.045780\n",
            "surgery               0.010276\n",
            "Name: Department, dtype: float64\n",
            "--------------------------------------------------\n",
            "Trauma       0.621072\n",
            "Emergency    0.271568\n",
            "Urgent       0.107360\n",
            "Name: Type of Admission, dtype: float64\n",
            "--------------------------------------------------\n",
            "Moderate    0.560394\n",
            "Minor       0.263074\n",
            "Extreme     0.176532\n",
            "Name: Severity of Illness, dtype: float64\n",
            "--------------------------------------------------\n",
            "Female    0.74162\n",
            "Male      0.20696\n",
            "Other     0.05142\n",
            "Name: gender, dtype: float64\n",
            "--------------------------------------------------\n",
            "Yes    0.78592\n",
            "No     0.21408\n",
            "Name: Insurance, dtype: float64\n",
            "--------------------------------------------------\n",
            "None                   0.303776\n",
            "Other                  0.188822\n",
            "High Blood Pressure    0.158804\n",
            "Diabetes               0.147288\n",
            "Asthama                0.131028\n",
            "Heart disease          0.070282\n",
            "Name: health_conditions, dtype: float64\n",
            "--------------------------------------------------\n",
            "Dr Sarah     0.199192\n",
            "Dr Olivia    0.196704\n",
            "Dr Sophia    0.149506\n",
            "Dr Nathan    0.141554\n",
            "Dr Sam       0.111422\n",
            "Dr John      0.102526\n",
            "Dr Mark      0.088820\n",
            "Dr Isaac     0.006718\n",
            "Dr Simon     0.003558\n",
            "Name: doctor_name, dtype: float64\n",
            "--------------------------------------------------\n",
            "F    0.241076\n",
            "D    0.238110\n",
            "B    0.207770\n",
            "E    0.190748\n",
            "A    0.093102\n",
            "C    0.029194\n",
            "Name: Ward_Facility_Code, dtype: float64\n",
            "--------------------------------------------------\n",
            "21-30     0.319586\n",
            "31-40     0.266746\n",
            "41-50     0.160812\n",
            "11-20     0.093072\n",
            "61-70     0.053112\n",
            "51-60     0.043436\n",
            "71-80     0.037406\n",
            "81-90     0.016362\n",
            "0-10      0.006736\n",
            "91-100    0.002732\n",
            "Name: Age, dtype: float64\n",
            "--------------------------------------------------\n"
          ]
        }
      ],
      "source": [
        "# List of all important categorical variables\n",
        "cat_col = [\"Department\", \"Type of Admission\", 'Severity of Illness', 'gender', 'Insurance', 'health_conditions', 'doctor_name', \"Ward_Facility_Code\", \"Age\"]\n",
        "\n",
        "# Printing the number of occurrences of each unique value in each categorical column\n",
        "for column in cat_col:\n",
        "    print(data[column].value_counts(1))\n",
        "    print(\"-\" * 50)"
      ]
    },
    {
      "cell_type": "markdown",
      "metadata": {
        "id": "NSIXtFmtgeNJ"
      },
      "source": [
        "**Observations:**\n",
        "\n",
        "- **The majority of patients (~82%) admit to the hospital with moderate and minor illness**, which is understandable as extreme illness is less frequent than moderate and minor illness.\n",
        "- **Gynecology department gets the most number of patients (~68%)** in the hospital, whereas patients in Surgery department are very few (~1%).\n",
        "- **Ward A and C accommodate the least number of patients (~12%).** These might be wards reserved for patient with extreme illness and patients who need surgery. It would be interesting to see if patients from these wards also stay for longer duration.\n",
        "- **The majority of patients belong to the age group of 21-50 (~75%), and the majority of patients are women (~74%).** The most number of patients in the gynecology department of the hospital can justify this.\n",
        "- Most of the patients admitted to the hospital are the cases of trauma (~62%).\n",
        "- After 'Other' category, **High Blood Pressure and Diabetes are the most common health conditions.**"
      ]
    },
    {
      "cell_type": "markdown",
      "metadata": {
        "id": "wTHU4IPogofK"
      },
      "source": [
        "## **Exploratory Data Analysis (EDA)**"
      ]
    },
    {
      "cell_type": "markdown",
      "metadata": {
        "id": "gU_-9VCyskuV"
      },
      "source": [
        "### **Univariate Analysis**"
      ]
    },
    {
      "cell_type": "code",
      "execution_count": null,
      "metadata": {
        "ExecuteTime": {
          "end_time": "2023-03-30T07:17:18.870947Z",
          "start_time": "2023-03-30T07:17:18.860366Z"
        },
        "id": "3FXeuDBXU3Dv"
      },
      "outputs": [],
      "source": [
        "# Function to plot a boxplot and a histogram along the same scale\n",
        "\n",
        "def histogram_boxplot(data, feature, figsize=(12, 7), kde=False, bins=None):\n",
        "    \"\"\"\n",
        "    Boxplot and histogram combined\n",
        "\n",
        "    data: dataframe\n",
        "    feature: dataframe column\n",
        "    figsize: size of figure (default (12,7))\n",
        "    kde: whether to the show density curve (default False)\n",
        "    bins: number of bins for histogram (default None)\n",
        "    \"\"\"\n",
        "    f2, (ax_box2, ax_hist2) = plt.subplots(\n",
        "        nrows = 2,      # Number of rows of the subplot grid = 2\n",
        "        sharex = True,  # x-axis will be shared among all subplots\n",
        "        gridspec_kw = {\"height_ratios\": (0.25, 0.75)},\n",
        "        figsize = figsize,\n",
        "    )                   # Creating the 2 subplots\n",
        "    sns.boxplot(data = data, x = feature, ax = ax_box2, showmeans = True, color = \"violet\"\n",
        "    )                   # Boxplot will be created and a star will indicate the mean value of the column\n",
        "    sns.histplot(\n",
        "        data = data, x = feature, kde = kde, ax = ax_hist2, bins = bins, palette = \"winter\"\n",
        "    ) if bins else sns.histplot(\n",
        "        data = data, x = feature, kde = kde, ax = ax_hist2\n",
        "    )                   # For histogram\n",
        "    ax_hist2.axvline(\n",
        "        data[feature].mean(), color = \"green\", linestyle = \"--\"\n",
        "    )                   # Add mean to the histogram\n",
        "    ax_hist2.axvline(\n",
        "        data[feature].median(), color = \"black\", linestyle = \"-\"\n",
        "    )                   # Add median to the histogram"
      ]
    },
    {
      "cell_type": "markdown",
      "metadata": {
        "id": "jeEmAqhGBlQ3"
      },
      "source": [
        "#### **Length of stay**"
      ]
    },
    {
      "cell_type": "code",
      "execution_count": null,
      "metadata": {
        "ExecuteTime": {
          "end_time": "2023-03-30T07:17:22.657910Z",
          "start_time": "2023-03-30T07:17:18.876739Z"
        },
        "id": "eZavZx-IU47X",
        "outputId": "dd285e66-47e1-4892-b027-7a80d453bce3"
      },
      "outputs": [
        {
          "data": {
            "image/png": "[encoded data removed]",
            "text/plain": [
              "<Figure size 864x504 with 2 Axes>"
            ]
          },
          "metadata": {
            "needs_background": "light"
          },
          "output_type": "display_data"
        }
      ],
      "source": [
        "histogram_boxplot(data, \"Stay (in days)\", kde = True, bins = 30)"
      ]
    },
    {
      "cell_type": "markdown",
      "metadata": {
        "id": "0f59iZeHCE9m"
      },
      "source": [
        "**Observations:**\n",
        "\n",
        "- **Fewer patients are staying more than 10 days in the hospital and very few stay for more than 40 days**. This might be because the majority of patients are admitted for moderate or minor illnesses.\n",
        "- The peak of the distribution shows that **most of the patients stay for 8-9 days in the hospital.**"
      ]
    },
    {
      "cell_type": "markdown",
      "metadata": {
        "id": "zwYRba3GCmMR"
      },
      "source": [
        "#### **Admission Deposit**"
      ]
    },
    {
      "cell_type": "code",
      "execution_count": null,
      "metadata": {
        "ExecuteTime": {
          "end_time": "2023-03-30T07:17:26.119493Z",
          "start_time": "2023-03-30T07:17:22.659822Z"
        },
        "id": "45-b0yudsw8V",
        "outputId": "d524bc86-19ba-4aab-c87b-9b2255fa0b45"
      },
      "outputs": [
        {
          "data": {
            "image/png": "[encoded data removed]",
            "text/plain": [
              "<Figure size 864x504 with 2 Axes>"
            ]
          },
          "metadata": {
            "needs_background": "light"
          },
          "output_type": "display_data"
        }
      ],
      "source": [
        "histogram_boxplot(data, \"Admission_Deposit\", kde = True, bins = 30)"
      ]
    },
    {
      "cell_type": "markdown",
      "metadata": {
        "id": "1iuWUHFtC40E"
      },
      "source": [
        "**Observation:**\n",
        "\n",
        "- The **distribution of admission fees is close to normal with outliers on both sides**. Few patients are paying a high amount of admission fees and few patients are paying a low amount of admission fees."
      ]
    },
    {
      "cell_type": "markdown",
      "metadata": {
        "id": "dnawqWwiDGAN"
      },
      "source": [
        "#### **Visitors with Patients**"
      ]
    },
    {
      "cell_type": "code",
      "execution_count": null,
      "metadata": {
        "ExecuteTime": {
          "end_time": "2023-03-30T07:17:30.559402Z",
          "start_time": "2023-03-30T07:17:26.121492Z"
        },
        "id": "zaFuytims4mK",
        "outputId": "cfaebb35-c38c-4ab9-dabd-1b2472576a57"
      },
      "outputs": [
        {
          "data": {
            "image/png": "[encoded data removed]",
            "text/plain": [
              "<Figure size 864x504 with 2 Axes>"
            ]
          },
          "metadata": {
            "needs_background": "light"
          },
          "output_type": "display_data"
        }
      ],
      "source": [
        "histogram_boxplot(data, \"Visitors with Patient\", kde = True, bins = 30)"
      ]
    },
    {
      "cell_type": "markdown",
      "metadata": {
        "id": "YDwBBE2eDOxo"
      },
      "source": [
        "**Observations:**\n",
        "\n",
        "- The distribution of the number of visitors with the patient is **highly skewed towards the right**.\n",
        "- **2 and 4 are the most common number of visitors with patients.**"
      ]
    },
    {
      "cell_type": "markdown",
      "metadata": {
        "id": "n5PnzTiBuJA5"
      },
      "source": [
        "### **Bivariate Analysis**"
      ]
    },
    {
      "cell_type": "code",
      "execution_count": null,
      "metadata": {
        "ExecuteTime": {
          "end_time": "2023-03-30T07:17:30.938936Z",
          "start_time": "2023-03-30T07:17:30.561525Z"
        },
        "id": "ARmMlB5IO3UQ",
        "outputId": "70e97078-deae-44c0-967b-5d1075393330"
      },
      "outputs": [
        {
          "data": {
            "text/plain": [
              "<AxesSubplot:>"
            ]
          },
          "execution_count": 17,
          "metadata": {},
          "output_type": "execute_result"
        },
        {
          "data": {
            "image/png": "[encoded data removed]",
            "text/plain": [
              "<Figure size 1080x504 with 2 Axes>"
            ]
          },
          "metadata": {
            "needs_background": "light"
          },
          "output_type": "display_data"
        }
      ],
      "source": [
        "# Finding the correlation between various columns of the dataset\n",
        "plt.figure(figsize = (15,7))\n",
        "sns.heatmap(data.corr(), annot = True, vmin = -1, vmax = 1, fmt = \".2f\", cmap = \"Spectral\")"
      ]
    },
    {
      "cell_type": "markdown",
      "metadata": {
        "id": "VXjMP0xgPHoW"
      },
      "source": [
        "**Observations:**\n",
        "- The heatmap shows that there is **no correlation between variables**.\n",
        "- The continuous variables show no correlation with the target variable (Stay (in days)), which indicates that the **categorical variables might be more important for the prediction.**"
      ]
    },
    {
      "cell_type": "code",
      "execution_count": null,
      "metadata": {
        "ExecuteTime": {
          "end_time": "2023-03-30T07:17:30.953973Z",
          "start_time": "2023-03-30T07:17:30.941924Z"
        },
        "id": "TbM2637QiV0D"
      },
      "outputs": [],
      "source": [
        "# Function to plot stacked bar plots\n",
        "\n",
        "def stacked_barplot(data, predictor, target):\n",
        "    \"\"\"\n",
        "    Print the category counts and plot a stacked bar chart\n",
        "\n",
        "    data: dataframe\n",
        "    predictor: independent variable\n",
        "    target: target variable\n",
        "    \"\"\"\n",
        "    count = data[predictor].nunique()\n",
        "    sorter = data[target].value_counts().index[-1]\n",
        "    tab1 = pd.crosstab(data[predictor], data[target], margins = True).sort_values(\n",
        "        by = sorter, ascending = False\n",
        "    )\n",
        "    print(tab1)\n",
        "    print(\"-\" * 120)\n",
        "    tab = pd.crosstab(data[predictor], data[target], normalize = \"index\").sort_values(\n",
        "        by = sorter, ascending = False\n",
        "    )\n",
        "    tab.plot(kind = \"bar\", stacked = True, figsize = (count + 1, 5))\n",
        "    plt.legend(\n",
        "        loc = \"lower left\",\n",
        "        frameon = False,\n",
        "    )\n",
        "    plt.legend(loc = \"upper left\", bbox_to_anchor = (1, 1))\n",
        "    plt.show()"
      ]
    },
    {
      "cell_type": "markdown",
      "metadata": {
        "id": "_7g781gtwOV2"
      },
      "source": [
        "**Let's start by checking the distribution of the LOS for the various wards**"
      ]
    },
    {
      "cell_type": "code",
      "execution_count": null,
      "metadata": {
        "ExecuteTime": {
          "end_time": "2023-03-30T07:17:35.586603Z",
          "start_time": "2023-03-30T07:17:30.955778Z"
        },
        "id": "z3C3qUsTlIpK",
        "outputId": "76977334-033e-4f5e-acd2-c0645fe882b2"
      },
      "outputs": [
        {
          "data": {
            "image/png": "[encoded data removed]",
            "text/plain": [
              "<Figure size 432x288 with 1 Axes>"
            ]
          },
          "metadata": {
            "needs_background": "light"
          },
          "output_type": "display_data"
        }
      ],
      "source": [
        "sns.barplot(y = 'Ward_Facility_Code', x = 'Stay (in days)', data = data)\n",
        "plt.show()"
      ]
    },
    {
      "cell_type": "markdown",
      "metadata": {
        "id": "2ScD8h0FHRxX"
      },
      "source": [
        "**Observation:**\n",
        "\n",
        "- The hypothesis we made earlier is correct, i.e., **wards A and C has the patients staying for the longest duration, which implies these wards might be for patients with serious illnesses.**"
      ]
    },
    {
      "cell_type": "code",
      "execution_count": null,
      "metadata": {
        "ExecuteTime": {
          "end_time": "2023-03-30T07:17:36.402707Z",
          "start_time": "2023-03-30T07:17:35.589819Z"
        },
        "id": "UH3lFpuU4I6B",
        "outputId": "fcb59389-3491-43cb-8304-5339c4c7b429"
      },
      "outputs": [
        {
          "name": "stdout",
          "output_type": "stream",
          "text": [
            "Department          TB & Chest disease  anesthesia  gynecology  radiotherapy  \\\n",
            "Ward_Facility_Code                                                             \n",
            "A                                 4709       15611           0         21093   \n",
            "All                              22890       44179      343478         84315   \n",
            "B                                    0           0      103885             0   \n",
            "C                                 1319        4199           0          9079   \n",
            "D                                    0           0      119055             0   \n",
            "E                                16862       24369           0         54143   \n",
            "F                                    0           0      120538             0   \n",
            "\n",
            "Department          surgery     All  \n",
            "Ward_Facility_Code                   \n",
            "A                      5138   46551  \n",
            "All                    5138  500000  \n",
            "B                         0  103885  \n",
            "C                         0   14597  \n",
            "D                         0  119055  \n",
            "E                         0   95374  \n",
            "F                         0  120538  \n",
            "------------------------------------------------------------------------------------------------------------------------\n"
          ]
        },
        {
          "data": {
            "image/png": "[encoded data removed]",
            "text/plain": [
              "<Figure size 504x360 with 1 Axes>"
            ]
          },
          "metadata": {
            "needs_background": "light"
          },
          "output_type": "display_data"
        }
      ],
      "source": [
        "stacked_barplot(data, \"Ward_Facility_Code\", \"Department\")"
      ]
    },
    {
      "cell_type": "markdown",
      "metadata": {
        "id": "26J9ZLFC4WO7"
      },
      "source": [
        "**Observations:**\n",
        "\n",
        "- **Ward Facility B, D, and F are dedicated only to the gynecology department.**\n",
        "- Wards A, C, and E have patients with all other diseases, and **patients undergoing surgery are admitted to ward A only.**"
      ]
    },
    {
      "cell_type": "markdown",
      "metadata": {
        "id": "So2J-eKbxLXE"
      },
      "source": [
        "**Usually, the more severe the illness, the more the LOS, let's check the distribution of severe patients in various wards.**"
      ]
    },
    {
      "cell_type": "code",
      "execution_count": null,
      "metadata": {
        "ExecuteTime": {
          "end_time": "2023-03-30T07:17:37.018294Z",
          "start_time": "2023-03-30T07:17:36.405698Z"
        },
        "id": "W-_Kr-34iXUp",
        "outputId": "af85c36a-5af5-4cd4-999d-ddae7263d6d2"
      },
      "outputs": [
        {
          "name": "stdout",
          "output_type": "stream",
          "text": [
            "Severity of Illness  Extreme   Minor  Moderate     All\n",
            "Ward_Facility_Code                                    \n",
            "All                    88266  131537    280197  500000\n",
            "D                      29549   27220     62286  119055\n",
            "B                      24222   23579     56084  103885\n",
            "A                      13662    7877     25012   46551\n",
            "E                      11488   22254     61632   95374\n",
            "F                       5842   47594     67102  120538\n",
            "C                       3503    3013      8081   14597\n",
            "------------------------------------------------------------------------------------------------------------------------\n"
          ]
        },
        {
          "data": {
            "image/png": "[encoded data removed]",
            "text/plain": [
              "<Figure size 504x360 with 1 Axes>"
            ]
          },
          "metadata": {
            "needs_background": "light"
          },
          "output_type": "display_data"
        }
      ],
      "source": [
        "stacked_barplot(data, \"Ward_Facility_Code\", \"Severity of Illness\")"
      ]
    },
    {
      "cell_type": "markdown",
      "metadata": {
        "id": "KiDH49bWIAJF"
      },
      "source": [
        "**Observations:**\n",
        "\n",
        "- **Ward A has the highest number of extreme cases.** We observed earlier that ward A has the longest length of stay in the hospital as well. It might require more staff and resources as compared to other wards.\n",
        "- **Ward F has the highest number of minor cases and Ward E has the highest number of moderate cases.**"
      ]
    },
    {
      "cell_type": "markdown",
      "metadata": {
        "id": "k4pmLBDiyJ4c"
      },
      "source": [
        "**Age can also be an important factor to find the length of stay. Let's check the same.**"
      ]
    },
    {
      "cell_type": "code",
      "execution_count": null,
      "metadata": {
        "ExecuteTime": {
          "end_time": "2023-03-30T07:17:42.487048Z",
          "start_time": "2023-03-30T07:17:37.018556Z"
        },
        "id": "FmSuZ_18n7Ch",
        "outputId": "a8cd93d6-5cd6-45e2-edd1-89796f71634a"
      },
      "outputs": [
        {
          "data": {
            "image/png": "[encoded data removed]",
            "text/plain": [
              "<Figure size 432x288 with 1 Axes>"
            ]
          },
          "metadata": {
            "needs_background": "light"
          },
          "output_type": "display_data"
        }
      ],
      "source": [
        "sns.barplot(y = 'Age', x = 'Stay (in days)', data = data)\n",
        "plt.show()"
      ]
    },
    {
      "cell_type": "markdown",
      "metadata": {
        "id": "SsYpNHK2It36"
      },
      "source": [
        "**Observation:**\n",
        "\n",
        "- **Patients aged between 1-10 and 51-100 tend to stay the most number of days in the hospital.** This might be because the majority of the patients between the 21-50 age group get admitted to the gynecology department and patients in age groups 1-10 and 5-100 might get admitted due to some serious illness."
      ]
    },
    {
      "cell_type": "markdown",
      "metadata": {
        "id": "8hdzS5PmPy5N"
      },
      "source": [
        "**Let's look at the doctors, their department names, and the total number of patients they have treated.**"
      ]
    },
    {
      "cell_type": "code",
      "execution_count": null,
      "metadata": {
        "ExecuteTime": {
          "end_time": "2023-03-30T07:17:42.640626Z",
          "start_time": "2023-03-30T07:17:42.489042Z"
        },
        "id": "KsDrxS25Py5N",
        "outputId": "c0fbdb16-e8e1-4eac-d192-d657149799d7"
      },
      "outputs": [
        {
          "data": {
            "text/html": [
              "<div>\n",
              "<style scoped>\n",
              "    .dataframe tbody tr th:only-of-type {\n",
              "        vertical-align: middle;\n",
              "    }\n",
              "\n",
              "    .dataframe tbody tr th {\n",
              "        vertical-align: top;\n",
              "    }\n",
              "\n",
              "    .dataframe thead th {\n",
              "        text-align: right;\n",
              "    }\n",
              "</style>\n",
              "<table border=\"1\" class=\"dataframe\">\n",
              "  <thead>\n",
              "    <tr style=\"text-align: right;\">\n",
              "      <th></th>\n",
              "      <th>Department_Name</th>\n",
              "      <th>Patients_Treated</th>\n",
              "    </tr>\n",
              "    <tr>\n",
              "      <th>doctor_name</th>\n",
              "      <th></th>\n",
              "      <th></th>\n",
              "    </tr>\n",
              "  </thead>\n",
              "  <tbody>\n",
              "    <tr>\n",
              "      <th>Dr Isaac</th>\n",
              "      <td>[surgery]</td>\n",
              "      <td>3359</td>\n",
              "    </tr>\n",
              "    <tr>\n",
              "      <th>Dr John</th>\n",
              "      <td>[TB &amp; Chest disease, anesthesia, radiotherapy]</td>\n",
              "      <td>51263</td>\n",
              "    </tr>\n",
              "    <tr>\n",
              "      <th>Dr Mark</th>\n",
              "      <td>[anesthesia, TB &amp; Chest disease]</td>\n",
              "      <td>44410</td>\n",
              "    </tr>\n",
              "    <tr>\n",
              "      <th>Dr Nathan</th>\n",
              "      <td>[gynecology]</td>\n",
              "      <td>70777</td>\n",
              "    </tr>\n",
              "    <tr>\n",
              "      <th>Dr Olivia</th>\n",
              "      <td>[gynecology]</td>\n",
              "      <td>98352</td>\n",
              "    </tr>\n",
              "    <tr>\n",
              "      <th>Dr Sam</th>\n",
              "      <td>[radiotherapy]</td>\n",
              "      <td>55711</td>\n",
              "    </tr>\n",
              "    <tr>\n",
              "      <th>Dr Sarah</th>\n",
              "      <td>[gynecology]</td>\n",
              "      <td>99596</td>\n",
              "    </tr>\n",
              "    <tr>\n",
              "      <th>Dr Simon</th>\n",
              "      <td>[surgery]</td>\n",
              "      <td>1779</td>\n",
              "    </tr>\n",
              "    <tr>\n",
              "      <th>Dr Sophia</th>\n",
              "      <td>[gynecology]</td>\n",
              "      <td>74753</td>\n",
              "    </tr>\n",
              "  </tbody>\n",
              "</table>\n",
              "</div>"
            ],
            "text/plain": [
              "                                            Department_Name  Patients_Treated\n",
              "doctor_name                                                                  \n",
              "Dr Isaac                                          [surgery]              3359\n",
              "Dr John      [TB & Chest disease, anesthesia, radiotherapy]             51263\n",
              "Dr Mark                    [anesthesia, TB & Chest disease]             44410\n",
              "Dr Nathan                                      [gynecology]             70777\n",
              "Dr Olivia                                      [gynecology]             98352\n",
              "Dr Sam                                       [radiotherapy]             55711\n",
              "Dr Sarah                                       [gynecology]             99596\n",
              "Dr Simon                                          [surgery]              1779\n",
              "Dr Sophia                                      [gynecology]             74753"
            ]
          },
          "execution_count": 23,
          "metadata": {},
          "output_type": "execute_result"
        }
      ],
      "source": [
        "data.groupby(['doctor_name'])['Department'].agg(Department_Name='unique',Patients_Treated='count')"
      ]
    },
    {
      "cell_type": "markdown",
      "metadata": {
        "id": "5bLK-JflPy5N"
      },
      "source": [
        "**Observations:**\n",
        "\n",
        "- The hospital employs a total of 9 doctors. Four of the doctors work in the department of gynecology, which sees the most patients.\n",
        "- The majority of patients that attended the hospital were treated by Dr. Sarah and Olivia.\n",
        "- Two doctors are working in the surgical department (Dr. Isaac and Dr. Simon), while Dr. Sam works in the radiotherapy department.\n",
        "- The only two doctors who work in several departments are Dr. John and Dr. Mark."
      ]
    },
    {
      "cell_type": "markdown",
      "metadata": {
        "id": "fTjAF7lA2A9v"
      },
      "source": [
        "## **Data Preparation for Model Building**\n",
        "\n",
        "- Before we proceed to build a model, we'll have to encode categorical features.\n",
        "- Separate the independent variables and dependent Variables.\n",
        "- We'll split the data into train and test to be able to evaluate the model that we train on the training data."
      ]
    },
    {
      "cell_type": "code",
      "execution_count": null,
      "metadata": {
        "ExecuteTime": {
          "end_time": "2023-03-30T07:17:43.224030Z",
          "start_time": "2023-03-30T07:17:42.642607Z"
        },
        "id": "R9sae8pN9cGT"
      },
      "outputs": [],
      "source": [
        "# Creating dummy variables for the categorical columns\n",
        "# drop_first=True is used to avoid redundant variables\n",
        "data = pd.get_dummies(\n",
        "    data,\n",
        "    columns = data.select_dtypes(include = [\"object\", \"category\"]).columns.tolist(),\n",
        "    drop_first = True,\n",
        ")"
      ]
    },
    {
      "cell_type": "code",
      "execution_count": null,
      "metadata": {
        "ExecuteTime": {
          "end_time": "2023-03-30T07:17:43.265926Z",
          "start_time": "2023-03-30T07:17:43.225037Z"
        },
        "id": "Ri-VtxAj9fdT",
        "outputId": "8054ae97-aa60-438c-a309-e6cb3a2a0522"
      },
      "outputs": [
        {
          "data": {
            "text/html": [
              "<div>\n",
              "<style scoped>\n",
              "    .dataframe tbody tr th:only-of-type {\n",
              "        vertical-align: middle;\n",
              "    }\n",
              "\n",
              "    .dataframe tbody tr th {\n",
              "        vertical-align: top;\n",
              "    }\n",
              "\n",
              "    .dataframe thead th {\n",
              "        text-align: right;\n",
              "    }\n",
              "</style>\n",
              "<table border=\"1\" class=\"dataframe\">\n",
              "  <thead>\n",
              "    <tr style=\"text-align: right;\">\n",
              "      <th></th>\n",
              "      <th>Available Extra Rooms in Hospital</th>\n",
              "      <th>staff_available</th>\n",
              "      <th>Visitors with Patient</th>\n",
              "      <th>Admission_Deposit</th>\n",
              "      <th>Stay (in days)</th>\n",
              "      <th>Department_anesthesia</th>\n",
              "      <th>Department_gynecology</th>\n",
              "      <th>Department_radiotherapy</th>\n",
              "      <th>Department_surgery</th>\n",
              "      <th>Ward_Facility_Code_B</th>\n",
              "      <th>Ward_Facility_Code_C</th>\n",
              "      <th>Ward_Facility_Code_D</th>\n",
              "      <th>Ward_Facility_Code_E</th>\n",
              "      <th>Ward_Facility_Code_F</th>\n",
              "      <th>doctor_name_Dr John</th>\n",
              "      <th>doctor_name_Dr Mark</th>\n",
              "      <th>doctor_name_Dr Nathan</th>\n",
              "      <th>doctor_name_Dr Olivia</th>\n",
              "      <th>doctor_name_Dr Sam</th>\n",
              "      <th>doctor_name_Dr Sarah</th>\n",
              "      <th>doctor_name_Dr Simon</th>\n",
              "      <th>doctor_name_Dr Sophia</th>\n",
              "      <th>Age_11-20</th>\n",
              "      <th>Age_21-30</th>\n",
              "      <th>Age_31-40</th>\n",
              "      <th>Age_41-50</th>\n",
              "      <th>Age_51-60</th>\n",
              "      <th>Age_61-70</th>\n",
              "      <th>Age_71-80</th>\n",
              "      <th>Age_81-90</th>\n",
              "      <th>Age_91-100</th>\n",
              "      <th>gender_Male</th>\n",
              "      <th>gender_Other</th>\n",
              "      <th>Type of Admission_Trauma</th>\n",
              "      <th>Type of Admission_Urgent</th>\n",
              "      <th>Severity of Illness_Minor</th>\n",
              "      <th>Severity of Illness_Moderate</th>\n",
              "      <th>health_conditions_Diabetes</th>\n",
              "      <th>health_conditions_Heart disease</th>\n",
              "      <th>health_conditions_High Blood Pressure</th>\n",
              "      <th>health_conditions_None</th>\n",
              "      <th>health_conditions_Other</th>\n",
              "      <th>Insurance_Yes</th>\n",
              "    </tr>\n",
              "  </thead>\n",
              "  <tbody>\n",
              "    <tr>\n",
              "      <th>0</th>\n",
              "      <td>4</td>\n",
              "      <td>0</td>\n",
              "      <td>4</td>\n",
              "      <td>2966.408696</td>\n",
              "      <td>8</td>\n",
              "      <td>0</td>\n",
              "      <td>1</td>\n",
              "      <td>0</td>\n",
              "      <td>0</td>\n",
              "      <td>0</td>\n",
              "      <td>0</td>\n",
              "      <td>1</td>\n",
              "      <td>0</td>\n",
              "      <td>0</td>\n",
              "      <td>0</td>\n",
              "      <td>0</td>\n",
              "      <td>0</td>\n",
              "      <td>0</td>\n",
              "      <td>0</td>\n",
              "      <td>0</td>\n",
              "      <td>0</td>\n",
              "      <td>1</td>\n",
              "      <td>0</td>\n",
              "      <td>0</td>\n",
              "      <td>0</td>\n",
              "      <td>1</td>\n",
              "      <td>0</td>\n",
              "      <td>0</td>\n",
              "      <td>0</td>\n",
              "      <td>0</td>\n",
              "      <td>0</td>\n",
              "      <td>0</td>\n",
              "      <td>0</td>\n",
              "      <td>1</td>\n",
              "      <td>0</td>\n",
              "      <td>0</td>\n",
              "      <td>0</td>\n",
              "      <td>1</td>\n",
              "      <td>0</td>\n",
              "      <td>0</td>\n",
              "      <td>0</td>\n",
              "      <td>0</td>\n",
              "      <td>1</td>\n",
              "    </tr>\n",
              "    <tr>\n",
              "      <th>1</th>\n",
              "      <td>4</td>\n",
              "      <td>2</td>\n",
              "      <td>2</td>\n",
              "      <td>3554.835677</td>\n",
              "      <td>9</td>\n",
              "      <td>0</td>\n",
              "      <td>1</td>\n",
              "      <td>0</td>\n",
              "      <td>0</td>\n",
              "      <td>1</td>\n",
              "      <td>0</td>\n",
              "      <td>0</td>\n",
              "      <td>0</td>\n",
              "      <td>0</td>\n",
              "      <td>0</td>\n",
              "      <td>0</td>\n",
              "      <td>0</td>\n",
              "      <td>0</td>\n",
              "      <td>0</td>\n",
              "      <td>0</td>\n",
              "      <td>0</td>\n",
              "      <td>1</td>\n",
              "      <td>0</td>\n",
              "      <td>0</td>\n",
              "      <td>1</td>\n",
              "      <td>0</td>\n",
              "      <td>0</td>\n",
              "      <td>0</td>\n",
              "      <td>0</td>\n",
              "      <td>0</td>\n",
              "      <td>0</td>\n",
              "      <td>0</td>\n",
              "      <td>0</td>\n",
              "      <td>1</td>\n",
              "      <td>0</td>\n",
              "      <td>1</td>\n",
              "      <td>0</td>\n",
              "      <td>0</td>\n",
              "      <td>1</td>\n",
              "      <td>0</td>\n",
              "      <td>0</td>\n",
              "      <td>0</td>\n",
              "      <td>0</td>\n",
              "    </tr>\n",
              "    <tr>\n",
              "      <th>2</th>\n",
              "      <td>2</td>\n",
              "      <td>8</td>\n",
              "      <td>2</td>\n",
              "      <td>5624.733654</td>\n",
              "      <td>7</td>\n",
              "      <td>0</td>\n",
              "      <td>1</td>\n",
              "      <td>0</td>\n",
              "      <td>0</td>\n",
              "      <td>1</td>\n",
              "      <td>0</td>\n",
              "      <td>0</td>\n",
              "      <td>0</td>\n",
              "      <td>0</td>\n",
              "      <td>0</td>\n",
              "      <td>0</td>\n",
              "      <td>0</td>\n",
              "      <td>0</td>\n",
              "      <td>0</td>\n",
              "      <td>0</td>\n",
              "      <td>0</td>\n",
              "      <td>1</td>\n",
              "      <td>0</td>\n",
              "      <td>1</td>\n",
              "      <td>0</td>\n",
              "      <td>0</td>\n",
              "      <td>0</td>\n",
              "      <td>0</td>\n",
              "      <td>0</td>\n",
              "      <td>0</td>\n",
              "      <td>0</td>\n",
              "      <td>0</td>\n",
              "      <td>0</td>\n",
              "      <td>1</td>\n",
              "      <td>0</td>\n",
              "      <td>0</td>\n",
              "      <td>0</td>\n",
              "      <td>1</td>\n",
              "      <td>0</td>\n",
              "      <td>0</td>\n",
              "      <td>0</td>\n",
              "      <td>0</td>\n",
              "      <td>1</td>\n",
              "    </tr>\n",
              "    <tr>\n",
              "      <th>3</th>\n",
              "      <td>4</td>\n",
              "      <td>7</td>\n",
              "      <td>4</td>\n",
              "      <td>4814.149231</td>\n",
              "      <td>8</td>\n",
              "      <td>0</td>\n",
              "      <td>1</td>\n",
              "      <td>0</td>\n",
              "      <td>0</td>\n",
              "      <td>0</td>\n",
              "      <td>0</td>\n",
              "      <td>1</td>\n",
              "      <td>0</td>\n",
              "      <td>0</td>\n",
              "      <td>0</td>\n",
              "      <td>0</td>\n",
              "      <td>0</td>\n",
              "      <td>1</td>\n",
              "      <td>0</td>\n",
              "      <td>0</td>\n",
              "      <td>0</td>\n",
              "      <td>0</td>\n",
              "      <td>0</td>\n",
              "      <td>0</td>\n",
              "      <td>1</td>\n",
              "      <td>0</td>\n",
              "      <td>0</td>\n",
              "      <td>0</td>\n",
              "      <td>0</td>\n",
              "      <td>0</td>\n",
              "      <td>0</td>\n",
              "      <td>0</td>\n",
              "      <td>0</td>\n",
              "      <td>0</td>\n",
              "      <td>1</td>\n",
              "      <td>0</td>\n",
              "      <td>1</td>\n",
              "      <td>0</td>\n",
              "      <td>0</td>\n",
              "      <td>0</td>\n",
              "      <td>1</td>\n",
              "      <td>0</td>\n",
              "      <td>0</td>\n",
              "    </tr>\n",
              "    <tr>\n",
              "      <th>4</th>\n",
              "      <td>2</td>\n",
              "      <td>10</td>\n",
              "      <td>2</td>\n",
              "      <td>5169.269637</td>\n",
              "      <td>34</td>\n",
              "      <td>1</td>\n",
              "      <td>0</td>\n",
              "      <td>0</td>\n",
              "      <td>0</td>\n",
              "      <td>0</td>\n",
              "      <td>0</td>\n",
              "      <td>0</td>\n",
              "      <td>1</td>\n",
              "      <td>0</td>\n",
              "      <td>0</td>\n",
              "      <td>1</td>\n",
              "      <td>0</td>\n",
              "      <td>0</td>\n",
              "      <td>0</td>\n",
              "      <td>0</td>\n",
              "      <td>0</td>\n",
              "      <td>0</td>\n",
              "      <td>0</td>\n",
              "      <td>0</td>\n",
              "      <td>0</td>\n",
              "      <td>0</td>\n",
              "      <td>0</td>\n",
              "      <td>0</td>\n",
              "      <td>1</td>\n",
              "      <td>0</td>\n",
              "      <td>0</td>\n",
              "      <td>1</td>\n",
              "      <td>0</td>\n",
              "      <td>1</td>\n",
              "      <td>0</td>\n",
              "      <td>0</td>\n",
              "      <td>1</td>\n",
              "      <td>1</td>\n",
              "      <td>0</td>\n",
              "      <td>0</td>\n",
              "      <td>0</td>\n",
              "      <td>0</td>\n",
              "      <td>0</td>\n",
              "    </tr>\n",
              "    <tr>\n",
              "      <th>...</th>\n",
              "      <td>...</td>\n",
              "      <td>...</td>\n",
              "      <td>...</td>\n",
              "      <td>...</td>\n",
              "      <td>...</td>\n",
              "      <td>...</td>\n",
              "      <td>...</td>\n",
              "      <td>...</td>\n",
              "      <td>...</td>\n",
              "      <td>...</td>\n",
              "      <td>...</td>\n",
              "      <td>...</td>\n",
              "      <td>...</td>\n",
              "      <td>...</td>\n",
              "      <td>...</td>\n",
              "      <td>...</td>\n",
              "      <td>...</td>\n",
              "      <td>...</td>\n",
              "      <td>...</td>\n",
              "      <td>...</td>\n",
              "      <td>...</td>\n",
              "      <td>...</td>\n",
              "      <td>...</td>\n",
              "      <td>...</td>\n",
              "      <td>...</td>\n",
              "      <td>...</td>\n",
              "      <td>...</td>\n",
              "      <td>...</td>\n",
              "      <td>...</td>\n",
              "      <td>...</td>\n",
              "      <td>...</td>\n",
              "      <td>...</td>\n",
              "      <td>...</td>\n",
              "      <td>...</td>\n",
              "      <td>...</td>\n",
              "      <td>...</td>\n",
              "      <td>...</td>\n",
              "      <td>...</td>\n",
              "      <td>...</td>\n",
              "      <td>...</td>\n",
              "      <td>...</td>\n",
              "      <td>...</td>\n",
              "      <td>...</td>\n",
              "    </tr>\n",
              "    <tr>\n",
              "      <th>499995</th>\n",
              "      <td>4</td>\n",
              "      <td>2</td>\n",
              "      <td>3</td>\n",
              "      <td>4105.795901</td>\n",
              "      <td>10</td>\n",
              "      <td>0</td>\n",
              "      <td>1</td>\n",
              "      <td>0</td>\n",
              "      <td>0</td>\n",
              "      <td>0</td>\n",
              "      <td>0</td>\n",
              "      <td>0</td>\n",
              "      <td>0</td>\n",
              "      <td>1</td>\n",
              "      <td>0</td>\n",
              "      <td>0</td>\n",
              "      <td>0</td>\n",
              "      <td>0</td>\n",
              "      <td>0</td>\n",
              "      <td>1</td>\n",
              "      <td>0</td>\n",
              "      <td>0</td>\n",
              "      <td>1</td>\n",
              "      <td>0</td>\n",
              "      <td>0</td>\n",
              "      <td>0</td>\n",
              "      <td>0</td>\n",
              "      <td>0</td>\n",
              "      <td>0</td>\n",
              "      <td>0</td>\n",
              "      <td>0</td>\n",
              "      <td>0</td>\n",
              "      <td>0</td>\n",
              "      <td>1</td>\n",
              "      <td>0</td>\n",
              "      <td>1</td>\n",
              "      <td>0</td>\n",
              "      <td>0</td>\n",
              "      <td>0</td>\n",
              "      <td>1</td>\n",
              "      <td>0</td>\n",
              "      <td>0</td>\n",
              "      <td>0</td>\n",
              "    </tr>\n",
              "    <tr>\n",
              "      <th>499996</th>\n",
              "      <td>13</td>\n",
              "      <td>8</td>\n",
              "      <td>2</td>\n",
              "      <td>4631.550257</td>\n",
              "      <td>11</td>\n",
              "      <td>0</td>\n",
              "      <td>1</td>\n",
              "      <td>0</td>\n",
              "      <td>0</td>\n",
              "      <td>0</td>\n",
              "      <td>0</td>\n",
              "      <td>0</td>\n",
              "      <td>0</td>\n",
              "      <td>1</td>\n",
              "      <td>0</td>\n",
              "      <td>0</td>\n",
              "      <td>0</td>\n",
              "      <td>1</td>\n",
              "      <td>0</td>\n",
              "      <td>0</td>\n",
              "      <td>0</td>\n",
              "      <td>0</td>\n",
              "      <td>0</td>\n",
              "      <td>0</td>\n",
              "      <td>1</td>\n",
              "      <td>0</td>\n",
              "      <td>0</td>\n",
              "      <td>0</td>\n",
              "      <td>0</td>\n",
              "      <td>0</td>\n",
              "      <td>0</td>\n",
              "      <td>0</td>\n",
              "      <td>0</td>\n",
              "      <td>0</td>\n",
              "      <td>0</td>\n",
              "      <td>0</td>\n",
              "      <td>1</td>\n",
              "      <td>0</td>\n",
              "      <td>0</td>\n",
              "      <td>0</td>\n",
              "      <td>0</td>\n",
              "      <td>1</td>\n",
              "      <td>0</td>\n",
              "    </tr>\n",
              "    <tr>\n",
              "      <th>499997</th>\n",
              "      <td>2</td>\n",
              "      <td>3</td>\n",
              "      <td>2</td>\n",
              "      <td>5456.930075</td>\n",
              "      <td>8</td>\n",
              "      <td>0</td>\n",
              "      <td>1</td>\n",
              "      <td>0</td>\n",
              "      <td>0</td>\n",
              "      <td>1</td>\n",
              "      <td>0</td>\n",
              "      <td>0</td>\n",
              "      <td>0</td>\n",
              "      <td>0</td>\n",
              "      <td>0</td>\n",
              "      <td>0</td>\n",
              "      <td>0</td>\n",
              "      <td>0</td>\n",
              "      <td>0</td>\n",
              "      <td>1</td>\n",
              "      <td>0</td>\n",
              "      <td>0</td>\n",
              "      <td>1</td>\n",
              "      <td>0</td>\n",
              "      <td>0</td>\n",
              "      <td>0</td>\n",
              "      <td>0</td>\n",
              "      <td>0</td>\n",
              "      <td>0</td>\n",
              "      <td>0</td>\n",
              "      <td>0</td>\n",
              "      <td>0</td>\n",
              "      <td>0</td>\n",
              "      <td>0</td>\n",
              "      <td>0</td>\n",
              "      <td>0</td>\n",
              "      <td>1</td>\n",
              "      <td>0</td>\n",
              "      <td>0</td>\n",
              "      <td>1</td>\n",
              "      <td>0</td>\n",
              "      <td>0</td>\n",
              "      <td>0</td>\n",
              "    </tr>\n",
              "    <tr>\n",
              "      <th>499998</th>\n",
              "      <td>2</td>\n",
              "      <td>1</td>\n",
              "      <td>2</td>\n",
              "      <td>4694.127772</td>\n",
              "      <td>23</td>\n",
              "      <td>0</td>\n",
              "      <td>0</td>\n",
              "      <td>1</td>\n",
              "      <td>0</td>\n",
              "      <td>0</td>\n",
              "      <td>0</td>\n",
              "      <td>0</td>\n",
              "      <td>0</td>\n",
              "      <td>0</td>\n",
              "      <td>1</td>\n",
              "      <td>0</td>\n",
              "      <td>0</td>\n",
              "      <td>0</td>\n",
              "      <td>0</td>\n",
              "      <td>0</td>\n",
              "      <td>0</td>\n",
              "      <td>0</td>\n",
              "      <td>0</td>\n",
              "      <td>0</td>\n",
              "      <td>0</td>\n",
              "      <td>0</td>\n",
              "      <td>0</td>\n",
              "      <td>1</td>\n",
              "      <td>0</td>\n",
              "      <td>0</td>\n",
              "      <td>0</td>\n",
              "      <td>0</td>\n",
              "      <td>0</td>\n",
              "      <td>1</td>\n",
              "      <td>0</td>\n",
              "      <td>0</td>\n",
              "      <td>0</td>\n",
              "      <td>1</td>\n",
              "      <td>0</td>\n",
              "      <td>0</td>\n",
              "      <td>0</td>\n",
              "      <td>0</td>\n",
              "      <td>0</td>\n",
              "    </tr>\n",
              "    <tr>\n",
              "      <th>499999</th>\n",
              "      <td>3</td>\n",
              "      <td>3</td>\n",
              "      <td>4</td>\n",
              "      <td>4713.868519</td>\n",
              "      <td>10</td>\n",
              "      <td>0</td>\n",
              "      <td>1</td>\n",
              "      <td>0</td>\n",
              "      <td>0</td>\n",
              "      <td>0</td>\n",
              "      <td>0</td>\n",
              "      <td>0</td>\n",
              "      <td>0</td>\n",
              "      <td>1</td>\n",
              "      <td>0</td>\n",
              "      <td>0</td>\n",
              "      <td>0</td>\n",
              "      <td>0</td>\n",
              "      <td>0</td>\n",
              "      <td>0</td>\n",
              "      <td>0</td>\n",
              "      <td>1</td>\n",
              "      <td>0</td>\n",
              "      <td>0</td>\n",
              "      <td>0</td>\n",
              "      <td>1</td>\n",
              "      <td>0</td>\n",
              "      <td>0</td>\n",
              "      <td>0</td>\n",
              "      <td>0</td>\n",
              "      <td>0</td>\n",
              "      <td>0</td>\n",
              "      <td>0</td>\n",
              "      <td>1</td>\n",
              "      <td>0</td>\n",
              "      <td>0</td>\n",
              "      <td>1</td>\n",
              "      <td>0</td>\n",
              "      <td>1</td>\n",
              "      <td>0</td>\n",
              "      <td>0</td>\n",
              "      <td>0</td>\n",
              "      <td>1</td>\n",
              "    </tr>\n",
              "  </tbody>\n",
              "</table>\n",
              "<p>500000 rows × 43 columns</p>\n",
              "</div>"
            ],
            "text/plain": [
              "        Available Extra Rooms in Hospital  staff_available  \\\n",
              "0                                       4                0   \n",
              "1                                       4                2   \n",
              "2                                       2                8   \n",
              "3                                       4                7   \n",
              "4                                       2               10   \n",
              "...                                   ...              ...   \n",
              "499995                                  4                2   \n",
              "499996                                 13                8   \n",
              "499997                                  2                3   \n",
              "499998                                  2                1   \n",
              "499999                                  3                3   \n",
              "\n",
              "        Visitors with Patient  Admission_Deposit  Stay (in days)  \\\n",
              "0                           4        2966.408696               8   \n",
              "1                           2        3554.835677               9   \n",
              "2                           2        5624.733654               7   \n",
              "3                           4        4814.149231               8   \n",
              "4                           2        5169.269637              34   \n",
              "...                       ...                ...             ...   \n",
              "499995                      3        4105.795901              10   \n",
              "499996                      2        4631.550257              11   \n",
              "499997                      2        5456.930075               8   \n",
              "499998                      2        4694.127772              23   \n",
              "499999                      4        4713.868519              10   \n",
              "\n",
              "        Department_anesthesia  Department_gynecology  Department_radiotherapy  \\\n",
              "0                           0                      1                        0   \n",
              "1                           0                      1                        0   \n",
              "2                           0                      1                        0   \n",
              "3                           0                      1                        0   \n",
              "4                           1                      0                        0   \n",
              "...                       ...                    ...                      ...   \n",
              "499995                      0                      1                        0   \n",
              "499996                      0                      1                        0   \n",
              "499997                      0                      1                        0   \n",
              "499998                      0                      0                        1   \n",
              "499999                      0                      1                        0   \n",
              "\n",
              "        Department_surgery  Ward_Facility_Code_B  Ward_Facility_Code_C  \\\n",
              "0                        0                     0                     0   \n",
              "1                        0                     1                     0   \n",
              "2                        0                     1                     0   \n",
              "3                        0                     0                     0   \n",
              "4                        0                     0                     0   \n",
              "...                    ...                   ...                   ...   \n",
              "499995                   0                     0                     0   \n",
              "499996                   0                     0                     0   \n",
              "499997                   0                     1                     0   \n",
              "499998                   0                     0                     0   \n",
              "499999                   0                     0                     0   \n",
              "\n",
              "        Ward_Facility_Code_D  Ward_Facility_Code_E  Ward_Facility_Code_F  \\\n",
              "0                          1                     0                     0   \n",
              "1                          0                     0                     0   \n",
              "2                          0                     0                     0   \n",
              "3                          1                     0                     0   \n",
              "4                          0                     1                     0   \n",
              "...                      ...                   ...                   ...   \n",
              "499995                     0                     0                     1   \n",
              "499996                     0                     0                     1   \n",
              "499997                     0                     0                     0   \n",
              "499998                     0                     0                     0   \n",
              "499999                     0                     0                     1   \n",
              "\n",
              "        doctor_name_Dr John  doctor_name_Dr Mark  doctor_name_Dr Nathan  \\\n",
              "0                         0                    0                      0   \n",
              "1                         0                    0                      0   \n",
              "2                         0                    0                      0   \n",
              "3                         0                    0                      0   \n",
              "4                         0                    1                      0   \n",
              "...                     ...                  ...                    ...   \n",
              "499995                    0                    0                      0   \n",
              "499996                    0                    0                      0   \n",
              "499997                    0                    0                      0   \n",
              "499998                    1                    0                      0   \n",
              "499999                    0                    0                      0   \n",
              "\n",
              "        doctor_name_Dr Olivia  doctor_name_Dr Sam  doctor_name_Dr Sarah  \\\n",
              "0                           0                   0                     0   \n",
              "1                           0                   0                     0   \n",
              "2                           0                   0                     0   \n",
              "3                           1                   0                     0   \n",
              "4                           0                   0                     0   \n",
              "...                       ...                 ...                   ...   \n",
              "499995                      0                   0                     1   \n",
              "499996                      1                   0                     0   \n",
              "499997                      0                   0                     1   \n",
              "499998                      0                   0                     0   \n",
              "499999                      0                   0                     0   \n",
              "\n",
              "        doctor_name_Dr Simon  doctor_name_Dr Sophia  Age_11-20  Age_21-30  \\\n",
              "0                          0                      1          0          0   \n",
              "1                          0                      1          0          0   \n",
              "2                          0                      1          0          1   \n",
              "3                          0                      0          0          0   \n",
              "4                          0                      0          0          0   \n",
              "...                      ...                    ...        ...        ...   \n",
              "499995                     0                      0          1          0   \n",
              "499996                     0                      0          0          0   \n",
              "499997                     0                      0          1          0   \n",
              "499998                     0                      0          0          0   \n",
              "499999                     0                      1          0          0   \n",
              "\n",
              "        Age_31-40  Age_41-50  Age_51-60  Age_61-70  Age_71-80  Age_81-90  \\\n",
              "0               0          1          0          0          0          0   \n",
              "1               1          0          0          0          0          0   \n",
              "2               0          0          0          0          0          0   \n",
              "3               1          0          0          0          0          0   \n",
              "4               0          0          0          0          1          0   \n",
              "...           ...        ...        ...        ...        ...        ...   \n",
              "499995          0          0          0          0          0          0   \n",
              "499996          1          0          0          0          0          0   \n",
              "499997          0          0          0          0          0          0   \n",
              "499998          0          0          0          1          0          0   \n",
              "499999          0          1          0          0          0          0   \n",
              "\n",
              "        Age_91-100  gender_Male  gender_Other  Type of Admission_Trauma  \\\n",
              "0                0            0             0                         1   \n",
              "1                0            0             0                         1   \n",
              "2                0            0             0                         1   \n",
              "3                0            0             0                         0   \n",
              "4                0            1             0                         1   \n",
              "...            ...          ...           ...                       ...   \n",
              "499995           0            0             0                         1   \n",
              "499996           0            0             0                         0   \n",
              "499997           0            0             0                         0   \n",
              "499998           0            0             0                         1   \n",
              "499999           0            0             0                         1   \n",
              "\n",
              "        Type of Admission_Urgent  Severity of Illness_Minor  \\\n",
              "0                              0                          0   \n",
              "1                              0                          1   \n",
              "2                              0                          0   \n",
              "3                              1                          0   \n",
              "4                              0                          0   \n",
              "...                          ...                        ...   \n",
              "499995                         0                          1   \n",
              "499996                         0                          0   \n",
              "499997                         0                          0   \n",
              "499998                         0                          0   \n",
              "499999                         0                          0   \n",
              "\n",
              "        Severity of Illness_Moderate  health_conditions_Diabetes  \\\n",
              "0                                  0                           1   \n",
              "1                                  0                           0   \n",
              "2                                  0                           1   \n",
              "3                                  1                           0   \n",
              "4                                  1                           1   \n",
              "...                              ...                         ...   \n",
              "499995                             0                           0   \n",
              "499996                             1                           0   \n",
              "499997                             1                           0   \n",
              "499998                             0                           1   \n",
              "499999                             1                           0   \n",
              "\n",
              "        health_conditions_Heart disease  \\\n",
              "0                                     0   \n",
              "1                                     1   \n",
              "2                                     0   \n",
              "3                                     0   \n",
              "4                                     0   \n",
              "...                                 ...   \n",
              "499995                                0   \n",
              "499996                                0   \n",
              "499997                                0   \n",
              "499998                                0   \n",
              "499999                                1   \n",
              "\n",
              "        health_conditions_High Blood Pressure  health_conditions_None  \\\n",
              "0                                           0                       0   \n",
              "1                                           0                       0   \n",
              "2                                           0                       0   \n",
              "3                                           0                       1   \n",
              "4                                           0                       0   \n",
              "...                                       ...                     ...   \n",
              "499995                                      1                       0   \n",
              "499996                                      0                       0   \n",
              "499997                                      1                       0   \n",
              "499998                                      0                       0   \n",
              "499999                                      0                       0   \n",
              "\n",
              "        health_conditions_Other  Insurance_Yes  \n",
              "0                             0              1  \n",
              "1                             0              0  \n",
              "2                             0              1  \n",
              "3                             0              0  \n",
              "4                             0              0  \n",
              "...                         ...            ...  \n",
              "499995                        0              0  \n",
              "499996                        1              0  \n",
              "499997                        0              0  \n",
              "499998                        0              0  \n",
              "499999                        0              1  \n",
              "\n",
              "[500000 rows x 43 columns]"
            ]
          },
          "execution_count": 25,
          "metadata": {},
          "output_type": "execute_result"
        }
      ],
      "source": [
        "# Check the data after handling categorical data\n",
        "data"
      ]
    },
    {
      "cell_type": "code",
      "execution_count": null,
      "metadata": {
        "ExecuteTime": {
          "end_time": "2023-03-30T07:17:43.355751Z",
          "start_time": "2023-03-30T07:17:43.267772Z"
        },
        "id": "CpnezOEgjQY7"
      },
      "outputs": [],
      "source": [
        "# Separating independent variables and the target variable\n",
        "x = data.drop('Stay (in days)',axis=1)\n",
        "\n",
        "y = data['Stay (in days)']"
      ]
    },
    {
      "cell_type": "code",
      "execution_count": null,
      "metadata": {
        "ExecuteTime": {
          "end_time": "2023-03-30T07:17:43.538921Z",
          "start_time": "2023-03-30T07:17:43.357741Z"
        },
        "id": "KTg4-p8-9EO7"
      },
      "outputs": [],
      "source": [
        "# Splitting the dataset into train and test datasets\n",
        "x_train, x_test, y_train, y_test = train_test_split(x, y, test_size = 0.2, shuffle = True, random_state = 1)"
      ]
    },
    {
      "cell_type": "code",
      "execution_count": null,
      "metadata": {
        "ExecuteTime": {
          "end_time": "2023-03-30T07:17:43.555922Z",
          "start_time": "2023-03-30T07:17:43.539484Z"
        },
        "id": "rEG6Rs2wjVrO",
        "outputId": "740f04ae-6698-4d34-c7d5-219c9e690767"
      },
      "outputs": [
        {
          "name": "stdout",
          "output_type": "stream",
          "text": [
            "Shape of Training set :  (400000, 42)\n",
            "Shape of test set :  (100000, 42)\n"
          ]
        }
      ],
      "source": [
        "# Checking the shape of the train and test data\n",
        "print(\"Shape of Training set : \", x_train.shape)\n",
        "print(\"Shape of test set : \", x_test.shape)"
      ]
    },
    {
      "cell_type": "markdown",
      "metadata": {
        "id": "wwDclxhA8ply"
      },
      "source": [
        "## **Model Building**"
      ]
    },
    {
      "cell_type": "markdown",
      "metadata": {
        "id": "SH1_ef6jSVcD"
      },
      "source": [
        "* We will be using different metrics functions defined in sklearn like RMSE, MAE, 𝑅2, Adjusted 𝑅2, and MAPE for regression model evaluation. We will define a function to calculate these metrics.\n",
        "* The mean absolute percentage error (MAPE) measures the accuracy of predictions as a percentage and can be calculated as the average absolute percentage error for all data points. The absolute percentage error is defined as the predicted value minus actual value divided by actual value. It works best if there are no extreme values in the data and none of the actual values are 0."
      ]
    },
    {
      "cell_type": "code",
      "execution_count": null,
      "metadata": {
        "ExecuteTime": {
          "end_time": "2023-03-30T07:17:43.588871Z",
          "start_time": "2023-03-30T07:17:43.557895Z"
        },
        "id": "v4s83hAM9I8X"
      },
      "outputs": [],
      "source": [
        "# Function to compute adjusted R-squared\n",
        "def adj_r2_score(predictors, targets, predictions):\n",
        "    r2 = r2_score(targets, predictions)\n",
        "    n = predictors.shape[0]\n",
        "    k = predictors.shape[1]\n",
        "    return 1 - ((1 - r2) * (n - 1) / (n - k - 1))\n",
        "\n",
        "\n",
        "# Function to compute MAPE\n",
        "def mape_score(targets, predictions):\n",
        "    return np.mean(np.abs(targets - predictions) / targets) * 100\n",
        "\n",
        "\n",
        "# Function to compute different metrics to check performance of a regression model\n",
        "def model_performance_regression(model, predictors, target):\n",
        "    \"\"\"\n",
        "    Function to compute different metrics to check regression model performance\n",
        "\n",
        "    model: regressor\n",
        "    predictors: independent variables\n",
        "    target: dependent variable\n",
        "    \"\"\"\n",
        "\n",
        "    pred = model.predict(predictors)                  # Predict using the independent variables\n",
        "    r2 = r2_score(target, pred)                       # To compute R-squared\n",
        "    adjr2 = adj_r2_score(predictors, target, pred)    # To compute adjusted R-squared\n",
        "    rmse = np.sqrt(mean_squared_error(target, pred))  # To compute RMSE\n",
        "    mae = mean_absolute_error(target, pred)           # To compute MAE\n",
        "    mape = mape_score(target, pred)                   # To compute MAPE\n",
        "\n",
        "    # Creating a dataframe of metrics\n",
        "    df_perf = pd.DataFrame(\n",
        "        {\n",
        "            \"RMSE\": rmse,\n",
        "            \"MAE\": mae,\n",
        "            \"R-squared\": r2,\n",
        "            \"Adj. R-squared\": adjr2,\n",
        "            \"MAPE\": mape,\n",
        "        },\n",
        "        index=[0],\n",
        "    )\n",
        "\n",
        "    return df_perf"
      ]
    },
    {
      "cell_type": "markdown",
      "metadata": {
        "id": "uXD7kwk2Py5O"
      },
      "source": [
        "## **Decision Trees**"
      ]
    },
    {
      "cell_type": "markdown",
      "metadata": {
        "id": "kBGmb_b5Py5O"
      },
      "source": [
        "**What is a Decision Tree?**\n",
        "\n",
        "Decision Trees are a type of supervised machine learning algorithm that can be used for **both classification and regression tasks**. They are often used in business and industry to make decisions based on data, and are particularly useful for tasks that require decision-making based on a set of conditions.\n",
        "\n",
        "**How does a Decision Tree work?**\n",
        "\n",
        "A Decision Tree works by recursively splitting the dataset into smaller subsets based on the feature that provides the most information gain at each step. This process continues until the subsets are as pure as possible, meaning that they contain as few mixed class labels as possible, or until a stopping criterion is met (e.g., when a maximum depth is reached).\n",
        "\n",
        "$$\\large Information\\ Gain = Entropy\\ before\\ split - Entropy\\ after\\ split$$\n",
        "\n",
        "where, $$\\large Entropy = -\\sum_{i=1}^{c} p_i \\log_2 p_i$$\n",
        "\n",
        "Here, $p$ is the proportion of positive instances in the subset.\n",
        "\n",
        "The goal of the algorithm is to find the tree that provides the best predictions on the training data, while also being as simple and interpretable as possible."
      ]
    },
    {
      "cell_type": "code",
      "execution_count": null,
      "metadata": {
        "ExecuteTime": {
          "end_time": "2023-03-30T07:17:48.485691Z",
          "start_time": "2023-03-30T07:17:43.591236Z"
        },
        "id": "emnVKVJCPy5O",
        "outputId": "c56d7d79-993e-455c-8b97-a6f72583e6e8"
      },
      "outputs": [
        {
          "data": {
            "text/html": [
              "<div>\n",
              "<style scoped>\n",
              "    .dataframe tbody tr th:only-of-type {\n",
              "        vertical-align: middle;\n",
              "    }\n",
              "\n",
              "    .dataframe tbody tr th {\n",
              "        vertical-align: top;\n",
              "    }\n",
              "\n",
              "    .dataframe thead th {\n",
              "        text-align: right;\n",
              "    }\n",
              "</style>\n",
              "<table border=\"1\" class=\"dataframe\">\n",
              "  <thead>\n",
              "    <tr style=\"text-align: right;\">\n",
              "      <th></th>\n",
              "      <th>RMSE</th>\n",
              "      <th>MAE</th>\n",
              "      <th>R-squared</th>\n",
              "      <th>Adj. R-squared</th>\n",
              "      <th>MAPE</th>\n",
              "    </tr>\n",
              "  </thead>\n",
              "  <tbody>\n",
              "    <tr>\n",
              "      <th>0</th>\n",
              "      <td>1.81515</td>\n",
              "      <td>1.12829</td>\n",
              "      <td>0.94768</td>\n",
              "      <td>0.947658</td>\n",
              "      <td>9.341248</td>\n",
              "    </tr>\n",
              "  </tbody>\n",
              "</table>\n",
              "</div>"
            ],
            "text/plain": [
              "      RMSE      MAE  R-squared  Adj. R-squared      MAPE\n",
              "0  1.81515  1.12829    0.94768        0.947658  9.341248"
            ]
          },
          "execution_count": 30,
          "metadata": {},
          "output_type": "execute_result"
        }
      ],
      "source": [
        "# Decision Tree Regressor\n",
        "dt_regressor = DecisionTreeRegressor(random_state = 1)\n",
        "\n",
        "# Fitting the model\n",
        "dt_regressor.fit(x_train, y_train)\n",
        "\n",
        "# Model Performance on the test data, i.e., prediction\n",
        "dt_regressor_perf_test = model_performance_regression(dt_regressor, x_test, y_test)\n",
        "\n",
        "dt_regressor_perf_test"
      ]
    },
    {
      "cell_type": "markdown",
      "metadata": {
        "id": "bkPIqeyUPy5P"
      },
      "source": [
        "**Let's visualize the decision tree and examine the tree's decision rules. Visualizing a Decision Tree can help you understand how the algorithm works and interpret its predictions. Visualizing the tree can help us to:**\n",
        "\n",
        "- **Identify the root node:** The first node at the top of the tree is called the root node. It represents the entire dataset and is used to split the data into two or more homogeneous subsets.\n",
        "\n",
        "- **Identify the internal nodes:** The nodes that are not leaf nodes are called internal nodes. They represent a decision or a test on a feature and are used to split the data into smaller subsets based on the feature value.\n",
        "\n",
        "- **Identify the leaf nodes:** The nodes at the bottom of the tree are called leaf nodes. They represent the output or the class label of the data after going through all the splits in the tree.\n",
        "\n",
        "- **Follow a path from the root to a leaf node:** To interpret a decision tree, you can follow a path from the root node to a leaf node. Along the path, you can see the tests performed on the features, and based on the test results, the data is split into smaller subsets.\n",
        "\n",
        "- **Analyze the feature importance:** You can analyze the feature importance by looking at the splits in the tree. The features used to split the data at the top of the tree are the most important features, as they have the highest impact on the decision.\n",
        "\n",
        "- **Analyze the class distribution:** You can analyze the class distribution at the leaf nodes to understand how the decision tree predicts the class labels. If the majority of the samples in a leaf node belong to a particular class, the decision tree predicts that class for the new data.\n",
        "\n",
        "- **Explain the decision:** Finally, you can explain the decision made by the decision tree by summarizing the path taken from the root to the leaf node and the class label predicted at the leaf node. You can also explain the importance of the features used in the decision and how they influence the final prediction.\n",
        "\n",
        "\n",
        "We will limit the decision tree's depth to two so that we can visualize it better."
      ]
    },
    {
      "cell_type": "code",
      "execution_count": null,
      "metadata": {
        "id": "NXvweyFIPy5P",
        "outputId": "0ad66b2b-4d7a-4136-d637-ded976c58f90"
      },
      "outputs": [
        {
          "data": {
            "image/png": "[encoded data removed]",
            "text/plain": [
              "<Figure size 1440x1440 with 1 Axes>"
            ]
          },
          "metadata": {
            "needs_background": "light"
          },
          "output_type": "display_data"
        }
      ],
      "source": [
        "from sklearn import tree\n",
        "features = list(x.columns)\n",
        "\n",
        "# Building the model with max_depth=3\n",
        "dt_regressor_visualize = DecisionTreeRegressor(random_state = 1, max_depth=3)\n",
        "\n",
        "# Fitting the model\n",
        "dt_regressor_visualize.fit(x_train, y_train)\n",
        "\n",
        "\n",
        "plt.figure(figsize = (20, 20))\n",
        "tree.plot_tree(dt_regressor_visualize, feature_names = features, filled = True, fontsize = 12,\n",
        "               node_ids = True, class_names = True)\n",
        "plt.show()"
      ]
    },
    {
      "cell_type": "code",
      "execution_count": null,
      "metadata": {
        "scrolled": false,
        "id": "AjF9Oge9Py5P",
        "outputId": "6dc9c482-3b99-4e1a-fc11-539c1cfed701"
      },
      "outputs": [
        {
          "name": "stdout",
          "output_type": "stream",
          "text": [
            "|--- Department_gynecology <= 0.50\n",
            "|   |--- Age_31-40 <= 0.50\n",
            "|   |   |--- Age_41-50 <= 0.50\n",
            "|   |   |   |--- value: [26.84]\n",
            "|   |   |--- Age_41-50 >  0.50\n",
            "|   |   |   |--- value: [10.02]\n",
            "|   |--- Age_31-40 >  0.50\n",
            "|   |   |--- Department_anesthesia <= 0.50\n",
            "|   |   |   |--- value: [6.94]\n",
            "|   |   |--- Department_anesthesia >  0.50\n",
            "|   |   |   |--- value: [17.97]\n",
            "|--- Department_gynecology >  0.50\n",
            "|   |--- Available Extra Rooms in Hospital <= 12.50\n",
            "|   |   |--- Admission_Deposit <= 4605.06\n",
            "|   |   |   |--- value: [8.69]\n",
            "|   |   |--- Admission_Deposit >  4605.06\n",
            "|   |   |   |--- value: [8.51]\n",
            "|   |--- Available Extra Rooms in Hospital >  12.50\n",
            "|   |   |--- Type of Admission_Trauma <= 0.50\n",
            "|   |   |   |--- value: [10.76]\n",
            "|   |   |--- Type of Admission_Trauma >  0.50\n",
            "|   |   |   |--- value: [10.30]\n",
            "\n"
          ]
        }
      ],
      "source": [
        "print(tree.export_text(dt_regressor_visualize, feature_names=x_train.columns.tolist(), show_weights=True))"
      ]
    },
    {
      "cell_type": "markdown",
      "metadata": {
        "id": "DkWx95qUPy5P"
      },
      "source": [
        "**Observations:**\n",
        "\n",
        "- **Root Node:** Department_gynecology <= 0.5. This is the starting point of the decision tree, which means that the Gynecology department results in the highest information gain among all the features. If the value is less than or equal to 0.5,  the left branch is taken, and if it is greater than 0.5, the right branch is taken.\n",
        "\n",
        "- **Internal Nodes:**\n",
        "    - Age_31-40 <= 0.5\n",
        "    - Age_41-50 <= 0.5\n",
        "    - Department_anesthesia <= 0.5\n",
        "    - Available Extra Rooms in Hospital <= 12.5\n",
        "    - Admission_Deposit <= 4605.06\n",
        "    - Type of Admission_Trauma <= 0.5\n",
        "    \n",
        "These are the intermediate nodes of the tree. Each node represents a decision based on a particular feature and a threshold value. Depending on the value of the feature, the tree follows the appropriate branch until it reaches a leaf node.\n",
        "\n",
        "- **Leaf nodes** are the nodes in the tree that do not have any child nodes. In this tree, the leaf nodes correspond to the final decision of the tree. For example, the first leaf node in the tree is reached when the value of \"Department_gynecology\" is less than or equal to 0.5, \"Age_31-40\" is less than or equal to 0.5, and \"Age_41-50\" is less than or equal to 0.5.\n",
        "\n",
        "**Interpretation and Conclusions:**\n",
        "\n",
        "- The decision tree starts with a split on the Department_gynecology feature. If the patient was not admitted to the gynecology department, the tree proceeds to consider the patient's age and the department of anesthesia.\n",
        "    - If the patient is between 31-40 years old and was not admitted to the department of anesthesia, the tree reaches a leaf node and the predicted LOS for the patient is ~7 days.\n",
        "    - If the patient is not admitted to the department of gynecology and is not between 31-50 years old, then the predicted LOS for the patient is ~27 days.\n",
        "- If the patient was admitted to the gynecology department, the tree proceeds to consider the number of available extra rooms in the hospital and the type of admission.\n",
        "    - If the patient was admitted with trauma and the number of available extra rooms is greater than 12.5, the tree reaches a leaf node and the predicted LOS for the patient is ~11 days.\n",
        "    - If the number of available extra rooms is less than or equal to 12.5 and admission deposit is less than or equal to 4605.06, the tree reaches a leaf node and the predicted LOS for the patient is ~9 days.\n",
        "\n",
        "**Note:** The tree is truncated and not shown completely to get proper visualization. You can try to plot the complete tree and get some more observations."
      ]
    },
    {
      "cell_type": "markdown",
      "metadata": {
        "id": "XVjP7wRmPy5P"
      },
      "source": [
        "## **Bagging Regressor**"
      ]
    },
    {
      "cell_type": "markdown",
      "metadata": {
        "id": "cF5EaZNBPy5P"
      },
      "source": [
        "**What is a Bagging Regressor?**\n",
        "\n",
        "Bagging (short for Bootstrap Aggregating) is an ensemble learning technique that involves training multiple models on different subsets of the training data and then combining their predictions. The idea is to reduce variance and overfitting by averaging the predictions of many models.\n",
        "\n",
        "A Bagging Regressor is a type of Bagging algorithm used for regression tasks. It involves training multiple regression models (e.g., Decision Trees) on different subsets of the training data and then combining their predictions by taking the average.\n",
        "\n",
        "**How does a Bagging Regressor work?**\n",
        "\n",
        "The Bagging Regressor works by generating multiple subsets of the training data by randomly selecting data points with replacement (i.e., allowing the same data point to be selected more than once in the same subset). Each subset is used to train a separate regression model, and the predictions of these models are combined by taking their average.\n",
        "\n",
        "The idea behind this approach is that by training multiple models on different subsets of the data, we can reduce the variance and overfitting of the final model, while still maintaining the same bias as a single model trained on the entire dataset.\n",
        "\n",
        "$$\\large Prediction = average\\ of\\ predictions\\ of\\ individual\\ decision\\ tree\\ regressors$$"
      ]
    },
    {
      "cell_type": "code",
      "execution_count": null,
      "metadata": {
        "ExecuteTime": {
          "end_time": "2023-03-30T07:18:26.404322Z",
          "start_time": "2023-03-30T07:17:48.489125Z"
        },
        "id": "2_sNBtO_Py5P",
        "outputId": "a33c7054-2aea-4a07-f464-1c0768de40af"
      },
      "outputs": [
        {
          "data": {
            "text/html": [
              "<div>\n",
              "<style scoped>\n",
              "    .dataframe tbody tr th:only-of-type {\n",
              "        vertical-align: middle;\n",
              "    }\n",
              "\n",
              "    .dataframe tbody tr th {\n",
              "        vertical-align: top;\n",
              "    }\n",
              "\n",
              "    .dataframe thead th {\n",
              "        text-align: right;\n",
              "    }\n",
              "</style>\n",
              "<table border=\"1\" class=\"dataframe\">\n",
              "  <thead>\n",
              "    <tr style=\"text-align: right;\">\n",
              "      <th></th>\n",
              "      <th>RMSE</th>\n",
              "      <th>MAE</th>\n",
              "      <th>R-squared</th>\n",
              "      <th>Adj. R-squared</th>\n",
              "      <th>MAPE</th>\n",
              "    </tr>\n",
              "  </thead>\n",
              "  <tbody>\n",
              "    <tr>\n",
              "      <th>0</th>\n",
              "      <td>1.36894</td>\n",
              "      <td>0.905205</td>\n",
              "      <td>0.970242</td>\n",
              "      <td>0.970229</td>\n",
              "      <td>7.648842</td>\n",
              "    </tr>\n",
              "  </tbody>\n",
              "</table>\n",
              "</div>"
            ],
            "text/plain": [
              "      RMSE       MAE  R-squared  Adj. R-squared      MAPE\n",
              "0  1.36894  0.905205   0.970242        0.970229  7.648842"
            ]
          },
          "execution_count": 31,
          "metadata": {},
          "output_type": "execute_result"
        }
      ],
      "source": [
        "# Bagging Regressor\n",
        "bagging_estimator = BaggingRegressor(random_state = 1)\n",
        "\n",
        "# Fitting the model\n",
        "bagging_estimator.fit(x_train, y_train)\n",
        "\n",
        "# Model Performance on the test data\n",
        "bagging_estimator_perf_test = model_performance_regression(bagging_estimator, x_test, y_test)\n",
        "\n",
        "bagging_estimator_perf_test"
      ]
    },
    {
      "cell_type": "markdown",
      "metadata": {
        "id": "nVPl9sfBPy5P"
      },
      "source": [
        "## **Random Forest Regressor**"
      ]
    },
    {
      "cell_type": "markdown",
      "metadata": {
        "id": "yE5A6MqZPy5P"
      },
      "source": [
        "**What is a Random Forest?**\n",
        "\n",
        "Random Forest is another ensemble learning technique that combines multiple Decision Trees to create a more robust and accurate model. Like Bagging, it involves training multiple models on different subsets of the training data, but with an additional twist: at each split in the tree, only a random subset of the available features is considered for splitting.\n",
        "\n",
        "This helps to reduce the correlation between the trees in the forest and improves their overall accuracy.\n",
        "\n",
        "**How does a Random Forest work?**\n",
        "\n",
        "A Random Forest works by training multiple Decision Trees on different subsets of the training data, and then combining their predictions by taking their average. The key difference from Bagging is that at each split in the tree, only a random subset of the features is considered for splitting.\n",
        "\n",
        "The algorithm works as follows:\n",
        "\n",
        "1. Generate multiple random subsets of the training data (with replacement).\n",
        "2. For each subset, train a Decision Tree on a random subset of the features.\n",
        "3. Make predictions for new data by averaging the predictions of all the trees in the forest.\n",
        "\n",
        "The number of trees in the forest and the number of features considered at each split are hyperparameters that can be tuned to optimize the performance of the model.\n",
        "\n",
        "The Random Forest algorithm doesn't have any specific equations, but it involves training multiple Decision Trees on different subsets of the training data with a random subset of the features considered at each split."
      ]
    },
    {
      "cell_type": "code",
      "execution_count": null,
      "metadata": {
        "ExecuteTime": {
          "end_time": "2023-03-30T07:24:36.316633Z",
          "start_time": "2023-03-30T07:18:26.404322Z"
        },
        "id": "UMQp7sCLPy5P",
        "outputId": "02e7ae7d-7b09-4dce-dcc1-e98ef5185dc1"
      },
      "outputs": [
        {
          "data": {
            "text/html": [
              "<div>\n",
              "<style scoped>\n",
              "    .dataframe tbody tr th:only-of-type {\n",
              "        vertical-align: middle;\n",
              "    }\n",
              "\n",
              "    .dataframe tbody tr th {\n",
              "        vertical-align: top;\n",
              "    }\n",
              "\n",
              "    .dataframe thead th {\n",
              "        text-align: right;\n",
              "    }\n",
              "</style>\n",
              "<table border=\"1\" class=\"dataframe\">\n",
              "  <thead>\n",
              "    <tr style=\"text-align: right;\">\n",
              "      <th></th>\n",
              "      <th>RMSE</th>\n",
              "      <th>MAE</th>\n",
              "      <th>R-squared</th>\n",
              "      <th>Adj. R-squared</th>\n",
              "      <th>MAPE</th>\n",
              "    </tr>\n",
              "  </thead>\n",
              "  <tbody>\n",
              "    <tr>\n",
              "      <th>0</th>\n",
              "      <td>1.303684</td>\n",
              "      <td>0.86505</td>\n",
              "      <td>0.973011</td>\n",
              "      <td>0.973</td>\n",
              "      <td>7.314995</td>\n",
              "    </tr>\n",
              "  </tbody>\n",
              "</table>\n",
              "</div>"
            ],
            "text/plain": [
              "       RMSE      MAE  R-squared  Adj. R-squared      MAPE\n",
              "0  1.303684  0.86505   0.973011           0.973  7.314995"
            ]
          },
          "execution_count": 32,
          "metadata": {},
          "output_type": "execute_result"
        }
      ],
      "source": [
        "# Random Forest Regressor\n",
        "rf_regressor = RandomForestRegressor(n_estimators = 100, random_state = 1)\n",
        "\n",
        "# Fitting the model\n",
        "rf_regressor.fit(x_train, y_train)\n",
        "\n",
        "# Model Performance on the test data\n",
        "rf_regressor_perf_test = model_performance_regression(rf_regressor, x_test, y_test)\n",
        "\n",
        "rf_regressor_perf_test"
      ]
    },
    {
      "cell_type": "markdown",
      "metadata": {
        "id": "-p9DXFQmPy5P"
      },
      "source": [
        "## **AdaBoost**"
      ]
    },
    {
      "cell_type": "markdown",
      "metadata": {
        "id": "C5x4ZzkpPy5P"
      },
      "source": [
        "**What is Adaboost?**\n",
        "\n",
        "Adaboost (short for Adaptive Boosting) is a type of boosting algorithm that combines multiple weak classifiers to create a stronger classifier. A weak classifier is a classifier that performs only slightly better than random guessing.\n",
        "\n",
        "**How does Adaboost work?**\n",
        "\n",
        "Adaboost works by training multiple weak classifiers on different subsets of the training data, and then combining their predictions to make a final prediction. The algorithm works as follows:\n",
        "\n",
        "Assign equal weights to all the training examples.\n",
        "Train a weak classifier on a subset of the training data.\n",
        "Increase the weights of the misclassified examples.\n",
        "Train another weak classifier on the same subset of data but with the weights adjusted to give more importance to the misclassified examples.\n",
        "Repeat steps 3-4 for a specified number of iterations or until the error rate is sufficiently low.\n",
        "Combine the predictions of all the weak classifiers to make a final prediction.\n",
        "The key idea behind Adaboost is that by giving more weight to the misclassified examples, the algorithm can focus on the examples that are more difficult to classify and improve its overall accuracy.\n",
        "\n",
        "\n",
        "The Adaboost algorithm involves computing the weighted error rate of each weak classifier and using it to update the weights of the training examples. The equation for computing the weighted error rate is:\n",
        "\n",
        "$$\\large \\epsilon_t = \\frac{\\sum_{i=1}^{N} w_{t,i} \\cdot \\mathrm{I\\!I}(y_i \\neq h_t(x_i))}{\\sum_{i=1}^{N} w_{t,i}}$$\n",
        "\n",
        "Here, $w_i$ is the weight of the $i_{th}$ training example, $y_i$ is the true label of the $i_{th}$ example, $h(x_i)$ is the prediction of the weak classifier for the $i_{th}$ example, and the sum is over all the training examples.\n",
        "\n",
        "The weight of the weak classifier is then computed as:\n",
        "\n",
        "$$\\large \\alpha_t = \\frac{1}{2} \\ln \\left( \\frac{1 - \\epsilon_t}{\\epsilon_t} \\right)$$\n",
        "\n",
        "where $\\alpha_t$ is the weight of the $t_{th}$ weak learner in the final model, and $\\epsilon_t$ is the weighted error of the $t_{th}$ weak learner.\n",
        "\n",
        "Finally, the weights of the training examples are updated as follows:\n",
        "\n",
        "$$\\large w_i \\gets w_i \\exp(-\\alpha y_i h(x_i))$$\n",
        "\n",
        "Here, $exp()$ is the exponential function, $y_i$ is the true label of the $i_{th}$ example, $h(x_i)$ is the prediction of the weak classifier for the $i_{th}$ example, and the sum is over all the training examples."
      ]
    },
    {
      "cell_type": "code",
      "execution_count": null,
      "metadata": {
        "ExecuteTime": {
          "end_time": "2023-03-30T07:25:48.911995Z",
          "start_time": "2023-03-30T07:24:36.316633Z"
        },
        "id": "GFVTZDwjPy5Q",
        "outputId": "e470eb32-4547-48fe-8540-c846545399e0"
      },
      "outputs": [
        {
          "data": {
            "text/html": [
              "<div>\n",
              "<style scoped>\n",
              "    .dataframe tbody tr th:only-of-type {\n",
              "        vertical-align: middle;\n",
              "    }\n",
              "\n",
              "    .dataframe tbody tr th {\n",
              "        vertical-align: top;\n",
              "    }\n",
              "\n",
              "    .dataframe thead th {\n",
              "        text-align: right;\n",
              "    }\n",
              "</style>\n",
              "<table border=\"1\" class=\"dataframe\">\n",
              "  <thead>\n",
              "    <tr style=\"text-align: right;\">\n",
              "      <th></th>\n",
              "      <th>RMSE</th>\n",
              "      <th>MAE</th>\n",
              "      <th>R-squared</th>\n",
              "      <th>Adj. R-squared</th>\n",
              "      <th>MAPE</th>\n",
              "    </tr>\n",
              "  </thead>\n",
              "  <tbody>\n",
              "    <tr>\n",
              "      <th>0</th>\n",
              "      <td>2.375388</td>\n",
              "      <td>1.58689</td>\n",
              "      <td>0.910399</td>\n",
              "      <td>0.910362</td>\n",
              "      <td>13.623722</td>\n",
              "    </tr>\n",
              "  </tbody>\n",
              "</table>\n",
              "</div>"
            ],
            "text/plain": [
              "       RMSE      MAE  R-squared  Adj. R-squared       MAPE\n",
              "0  2.375388  1.58689   0.910399        0.910362  13.623722"
            ]
          },
          "execution_count": 33,
          "metadata": {},
          "output_type": "execute_result"
        }
      ],
      "source": [
        "# Importing AdaBoost Regressor\n",
        "from sklearn.ensemble import AdaBoostRegressor\n",
        "\n",
        "# AdaBoost Regressor\n",
        "ada_regressor = AdaBoostRegressor(random_state=1)\n",
        "\n",
        "# Fitting the model\n",
        "ada_regressor.fit(x_train, y_train)\n",
        "\n",
        "# Model Performance on the test data\n",
        "ada_regressor_perf_test = model_performance_regression(ada_regressor, x_test, y_test)\n",
        "\n",
        "ada_regressor_perf_test"
      ]
    },
    {
      "cell_type": "markdown",
      "metadata": {
        "id": "rTAd48UcPy5Q"
      },
      "source": [
        "## **Gradient Boosting Regressor**"
      ]
    },
    {
      "cell_type": "markdown",
      "metadata": {
        "id": "mH4zeU93Py5Q"
      },
      "source": [
        "**What is Gradient Boosting?**\n",
        "\n",
        "Gradient Boosting is another boosting algorithm that combines multiple weak learners to create a strong learner. The difference between Adaboost and Gradient Boosting is that the former assigns different weights to different data points, while the latter fits the model to the residual errors of the previous model.\n",
        "\n",
        "**How does Gradient Boosting work?**\n",
        "\n",
        "Gradient Boosting works by sequentially adding weak learners to the model and updating the weights of the training examples based on the residual errors of the previous models. The algorithm works as follows:\n",
        "\n",
        "Initialize the model with a constant value, such as the mean of the target variable.\n",
        "\n",
        "For each weak learner:\n",
        "- Train the weak learner on the training data.\n",
        "- Compute the predictions of the weak learner.\n",
        "- Compute the residual errors of the previous model by subtracting the predicted values from the actual values.\n",
        "- Fit the weak learner to the residual errors.\n",
        "- Update the weights of the training examples based on the fitted residual errors.\n",
        "- Combine the predictions of all the weak learners to make a final prediction.\n",
        "\n",
        "The key idea behind Gradient Boosting is that by fitting the model to the residual errors of the previous model, it can focus on the examples that were not well predicted by the previous model and improve its overall accuracy.\n",
        "\n",
        "\n",
        "The Gradient Boosting algorithm involves computing the negative gradient of the loss function with respect to the predicted values and using it to update the model. The equation for computing the negative gradient is:\n",
        "\n",
        "$$\\large Negative\\ Gradient = -\\frac{\\partial L(y_\\text{true}, y_\\text{pred})}{\\partial y_\\text{pred}}$$\n",
        "\n",
        "Here,\n",
        "$y_true$ is the true label of the example,\n",
        "$y_pred$ is the predicted value of the model, and\n",
        "the partial derivatives are taken with respect to these variables.\n",
        "\n",
        "The weight of the weak learner is then computed as:\n",
        "\n",
        "$$\\large \\alpha = learning\\ rate * negative\\ gradient$$\n",
        "\n",
        "Finally, the model is updated as:\n",
        "\n",
        "$$\\large model\\ prediction = model\\ prediction + alpha * weak\\ learner\\ prediction$$\n",
        "\n",
        "Here, learning_rate is a hyperparameter that controls the step size of each update, weak learner prediction is the prediction of the weak learner for the example, and the sum is over all the weak learners."
      ]
    },
    {
      "cell_type": "code",
      "execution_count": null,
      "metadata": {
        "ExecuteTime": {
          "end_time": "2023-03-30T07:27:27.007505Z",
          "start_time": "2023-03-30T07:25:48.914881Z"
        },
        "id": "WsyMShA6Py5Q",
        "outputId": "8b04ec04-c68c-4067-8b27-75d150f8e1a5"
      },
      "outputs": [
        {
          "data": {
            "text/html": [
              "<div>\n",
              "<style scoped>\n",
              "    .dataframe tbody tr th:only-of-type {\n",
              "        vertical-align: middle;\n",
              "    }\n",
              "\n",
              "    .dataframe tbody tr th {\n",
              "        vertical-align: top;\n",
              "    }\n",
              "\n",
              "    .dataframe thead th {\n",
              "        text-align: right;\n",
              "    }\n",
              "</style>\n",
              "<table border=\"1\" class=\"dataframe\">\n",
              "  <thead>\n",
              "    <tr style=\"text-align: right;\">\n",
              "      <th></th>\n",
              "      <th>RMSE</th>\n",
              "      <th>MAE</th>\n",
              "      <th>R-squared</th>\n",
              "      <th>Adj. R-squared</th>\n",
              "      <th>MAPE</th>\n",
              "    </tr>\n",
              "  </thead>\n",
              "  <tbody>\n",
              "    <tr>\n",
              "      <th>0</th>\n",
              "      <td>1.792721</td>\n",
              "      <td>1.212749</td>\n",
              "      <td>0.948965</td>\n",
              "      <td>0.948944</td>\n",
              "      <td>10.247284</td>\n",
              "    </tr>\n",
              "  </tbody>\n",
              "</table>\n",
              "</div>"
            ],
            "text/plain": [
              "       RMSE       MAE  R-squared  Adj. R-squared       MAPE\n",
              "0  1.792721  1.212749   0.948965        0.948944  10.247284"
            ]
          },
          "execution_count": 34,
          "metadata": {},
          "output_type": "execute_result"
        }
      ],
      "source": [
        "# Importing Gradient Boosting Regressor\n",
        "from sklearn.ensemble import GradientBoostingRegressor\n",
        "\n",
        "# Gradient Boosting Regressor\n",
        "grad_regressor = GradientBoostingRegressor(random_state=1)\n",
        "\n",
        "# Fitting the model\n",
        "grad_regressor.fit(x_train, y_train)\n",
        "\n",
        "# Model Performance on the test data\n",
        "grad_regressor_perf_test = model_performance_regression(grad_regressor, x_test, y_test)\n",
        "\n",
        "grad_regressor_perf_test"
      ]
    },
    {
      "cell_type": "markdown",
      "metadata": {
        "id": "owSvTz7TPy5Q"
      },
      "source": [
        "## **XGBoost Regressor**"
      ]
    },
    {
      "cell_type": "markdown",
      "metadata": {
        "id": "2H49yug-Py5Q"
      },
      "source": [
        "**What is XGBoost?**\n",
        "\n",
        "XGBoost (short for Extreme Gradient Boosting) is a highly optimized implementation of the Gradient Boosting algorithm. It was developed by Tianqi Chen at the University of Washington and is widely used in data science competitions.\n",
        "\n",
        "**How does XGBoost work?**\n",
        "\n",
        "XGBoost works by sequentially adding weak learners to the model and updating the weights of the training examples based on the residual errors of the previous models. The algorithm is similar to Gradient Boosting, but includes several additional features to improve its performance:\n",
        "\n",
        "**Regularization**: XGBoost includes L1 and L2 regularization to prevent overfitting.\n",
        "**Tree Pruning**: XGBoost includes a technique called \"tree pruning\" to remove irrelevant features and reduce the complexity of the model.\n",
        "Weighted Quantile Sketch: XGBoost uses a weighted quantile sketch algorithm to speed up the computation of split points in the decision trees.\n",
        "Equations\n",
        "\n",
        "The XGBoost algorithm involves computing the negative gradient of the loss function with respect to the predicted values and using it to update the model. The equation for computing the negative gradient is the same as in Gradient Boosting.\n",
        "\n",
        "The weight of the weak learner is then computed as:\n",
        "\n",
        "$$\\large \\alpha = learning\\ rate * negative\\ gradient + 0.5 * (L_1\\ regularization + L_2\\ regularization)$$\n",
        "\n",
        "Finally, the model is updated."
      ]
    },
    {
      "cell_type": "code",
      "execution_count": null,
      "metadata": {
        "ExecuteTime": {
          "end_time": "2023-03-30T07:27:30.944054Z",
          "start_time": "2023-03-30T07:27:27.011502Z"
        },
        "id": "MKZyhLeVPy5Q",
        "outputId": "62e5d038-546f-4ca2-d157-1ae438dcf65c"
      },
      "outputs": [
        {
          "name": "stdout",
          "output_type": "stream",
          "text": [
            "Defaulting to user installation because normal site-packages is not writeable\n",
            "Requirement already satisfied: xgboost in c:\\users\\prashant kumar\\appdata\\roaming\\python\\python39\\site-packages (1.7.4)\n",
            "Requirement already satisfied: scipy in c:\\programdata\\anaconda3\\lib\\site-packages (from xgboost) (1.10.0)\n",
            "Requirement already satisfied: numpy in c:\\programdata\\anaconda3\\lib\\site-packages (from xgboost) (1.23.5)\n"
          ]
        }
      ],
      "source": [
        "# Installing the xgboost library using the 'pip' command\n",
        "!pip install xgboost"
      ]
    },
    {
      "cell_type": "code",
      "execution_count": null,
      "metadata": {
        "ExecuteTime": {
          "end_time": "2023-03-30T07:27:51.455429Z",
          "start_time": "2023-03-30T07:27:30.944054Z"
        },
        "id": "rTI3wmmXPy5Q",
        "outputId": "214e3a53-1ca4-475f-98d4-086e4f02c2b8"
      },
      "outputs": [
        {
          "data": {
            "text/html": [
              "<div>\n",
              "<style scoped>\n",
              "    .dataframe tbody tr th:only-of-type {\n",
              "        vertical-align: middle;\n",
              "    }\n",
              "\n",
              "    .dataframe tbody tr th {\n",
              "        vertical-align: top;\n",
              "    }\n",
              "\n",
              "    .dataframe thead th {\n",
              "        text-align: right;\n",
              "    }\n",
              "</style>\n",
              "<table border=\"1\" class=\"dataframe\">\n",
              "  <thead>\n",
              "    <tr style=\"text-align: right;\">\n",
              "      <th></th>\n",
              "      <th>RMSE</th>\n",
              "      <th>MAE</th>\n",
              "      <th>R-squared</th>\n",
              "      <th>Adj. R-squared</th>\n",
              "      <th>MAPE</th>\n",
              "    </tr>\n",
              "  </thead>\n",
              "  <tbody>\n",
              "    <tr>\n",
              "      <th>0</th>\n",
              "      <td>1.507729</td>\n",
              "      <td>1.032744</td>\n",
              "      <td>0.963902</td>\n",
              "      <td>0.963886</td>\n",
              "      <td>8.873291</td>\n",
              "    </tr>\n",
              "  </tbody>\n",
              "</table>\n",
              "</div>"
            ],
            "text/plain": [
              "       RMSE       MAE  R-squared  Adj. R-squared      MAPE\n",
              "0  1.507729  1.032744   0.963902        0.963886  8.873291"
            ]
          },
          "execution_count": 36,
          "metadata": {},
          "output_type": "execute_result"
        }
      ],
      "source": [
        "# Importing XGBoost Regressor\n",
        "from xgboost import XGBRegressor\n",
        "\n",
        "# XGBoost Regressor\n",
        "xgb = XGBRegressor(random_state = 1)\n",
        "\n",
        "# Fitting the model\n",
        "xgb.fit(x_train,y_train)\n",
        "\n",
        "# Model Performance on the test data\n",
        "xgb_perf_test = model_performance_regression(xgb, x_test, y_test)\n",
        "\n",
        "xgb_perf_test"
      ]
    },
    {
      "cell_type": "markdown",
      "metadata": {
        "id": "3R5lOkkGPy5Q"
      },
      "source": [
        "## **Models' Performance Comparison**"
      ]
    },
    {
      "cell_type": "markdown",
      "metadata": {
        "id": "SAKzivpAPy5Q"
      },
      "source": [
        "Comparing different machine learning models is an important step in the modeling process, as it allows us to understand the strengths and weaknesses of each model, and to choose the best one for a particular task.\n",
        "\n",
        "In the context of regression, we can compare models based on various performance metrics, such as **Mean Squared Error (MSE), Root Mean Squared Error (RMSE), Mean Absolute Error (MAE), R-squared, Adjusted R-squared and others**."
      ]
    },
    {
      "cell_type": "code",
      "execution_count": null,
      "metadata": {
        "ExecuteTime": {
          "end_time": "2023-03-30T07:27:51.486135Z",
          "start_time": "2023-03-30T07:27:51.457969Z"
        },
        "scrolled": true,
        "id": "j4KUPGOYPy5Q",
        "outputId": "2da3f72e-e5ef-4363-9232-c749f4fdc889"
      },
      "outputs": [
        {
          "name": "stdout",
          "output_type": "stream",
          "text": [
            "Test performance comparison:\n"
          ]
        },
        {
          "data": {
            "text/html": [
              "<div>\n",
              "<style scoped>\n",
              "    .dataframe tbody tr th:only-of-type {\n",
              "        vertical-align: middle;\n",
              "    }\n",
              "\n",
              "    .dataframe tbody tr th {\n",
              "        vertical-align: top;\n",
              "    }\n",
              "\n",
              "    .dataframe thead th {\n",
              "        text-align: right;\n",
              "    }\n",
              "</style>\n",
              "<table border=\"1\" class=\"dataframe\">\n",
              "  <thead>\n",
              "    <tr style=\"text-align: right;\">\n",
              "      <th></th>\n",
              "      <th>RMSE</th>\n",
              "      <th>MAE</th>\n",
              "      <th>R-squared</th>\n",
              "      <th>Adj. R-squared</th>\n",
              "      <th>MAPE</th>\n",
              "    </tr>\n",
              "  </thead>\n",
              "  <tbody>\n",
              "    <tr>\n",
              "      <th>Decision tree regressor</th>\n",
              "      <td>1.815150</td>\n",
              "      <td>1.128290</td>\n",
              "      <td>0.947680</td>\n",
              "      <td>0.947658</td>\n",
              "      <td>9.341248</td>\n",
              "    </tr>\n",
              "    <tr>\n",
              "      <th>Bagging Regressor</th>\n",
              "      <td>1.368940</td>\n",
              "      <td>0.905205</td>\n",
              "      <td>0.970242</td>\n",
              "      <td>0.970229</td>\n",
              "      <td>7.648842</td>\n",
              "    </tr>\n",
              "    <tr>\n",
              "      <th>Random Forest regressor</th>\n",
              "      <td>1.303684</td>\n",
              "      <td>0.865050</td>\n",
              "      <td>0.973011</td>\n",
              "      <td>0.973000</td>\n",
              "      <td>7.314995</td>\n",
              "    </tr>\n",
              "    <tr>\n",
              "      <th>Ada Boost Regressor</th>\n",
              "      <td>2.375388</td>\n",
              "      <td>1.586890</td>\n",
              "      <td>0.910399</td>\n",
              "      <td>0.910362</td>\n",
              "      <td>13.623722</td>\n",
              "    </tr>\n",
              "    <tr>\n",
              "      <th>Gradient Boosting Regressor</th>\n",
              "      <td>1.792721</td>\n",
              "      <td>1.212749</td>\n",
              "      <td>0.948965</td>\n",
              "      <td>0.948944</td>\n",
              "      <td>10.247284</td>\n",
              "    </tr>\n",
              "    <tr>\n",
              "      <th>XG Boost Regressor</th>\n",
              "      <td>1.507729</td>\n",
              "      <td>1.032744</td>\n",
              "      <td>0.963902</td>\n",
              "      <td>0.963886</td>\n",
              "      <td>8.873291</td>\n",
              "    </tr>\n",
              "  </tbody>\n",
              "</table>\n",
              "</div>"
            ],
            "text/plain": [
              "                                 RMSE       MAE  R-squared  Adj. R-squared  \\\n",
              "Decision tree regressor      1.815150  1.128290   0.947680        0.947658   \n",
              "Bagging Regressor            1.368940  0.905205   0.970242        0.970229   \n",
              "Random Forest regressor      1.303684  0.865050   0.973011        0.973000   \n",
              "Ada Boost Regressor          2.375388  1.586890   0.910399        0.910362   \n",
              "Gradient Boosting Regressor  1.792721  1.212749   0.948965        0.948944   \n",
              "XG Boost Regressor           1.507729  1.032744   0.963902        0.963886   \n",
              "\n",
              "                                  MAPE  \n",
              "Decision tree regressor       9.341248  \n",
              "Bagging Regressor             7.648842  \n",
              "Random Forest regressor       7.314995  \n",
              "Ada Boost Regressor          13.623722  \n",
              "Gradient Boosting Regressor  10.247284  \n",
              "XG Boost Regressor            8.873291  "
            ]
          },
          "execution_count": 37,
          "metadata": {},
          "output_type": "execute_result"
        }
      ],
      "source": [
        "models_test_comp_df = pd.concat(\n",
        "    [\n",
        "        dt_regressor_perf_test.T,\n",
        "        bagging_estimator_perf_test.T,\n",
        "        rf_regressor_perf_test.T,\n",
        "        ada_regressor_perf_test.T,\n",
        "        grad_regressor_perf_test.T,\n",
        "        xgb_perf_test.T\n",
        "    ],\n",
        "    axis = 1,\n",
        ")\n",
        "\n",
        "models_test_comp_df.columns = [\n",
        "    \"Decision tree regressor\",\n",
        "    \"Bagging Regressor\",\n",
        "    \"Random Forest regressor\",\n",
        "    \"Ada Boost Regressor\",\n",
        "    \"Gradient Boosting Regressor\",\n",
        "    \"XG Boost Regressor\"]\n",
        "\n",
        "print(\"Test performance comparison:\")\n",
        "\n",
        "models_test_comp_df.T"
      ]
    },
    {
      "cell_type": "markdown",
      "metadata": {
        "id": "qgikgP-SPy5Q"
      },
      "source": [
        "## **Choosing the Models for Tuning Hyperparameters**"
      ]
    },
    {
      "cell_type": "markdown",
      "metadata": {
        "id": "mAFSiGZPPy5Q"
      },
      "source": [
        "Choosing the final model from the set of compared models depends on various factors. Here are some steps to help you make a decision:\n",
        "\n",
        "- **Look at the evaluation metrics**: Check the evaluation metrics of the models that you have compared. Choose the model that performs the best based on your criteria. However, it is important to keep in mind that the model with the best performance on the training set may not necessarily be the best on the test set. Therefore, it is important to also consider the model's performance on the test set.\n",
        "\n",
        "- **Overfitting**: Check for overfitting in the models. A model that overfits the data may perform very well on the training set but poorly on the test set. One way to check for overfitting is by comparing the performance of the model on the training set and the test set. If the difference in performance is large, it may indicate overfitting. Therefore, it is better to choose a model that has a good balance between performance on the training set and the test set.\n",
        "\n",
        "- **Model complexity**: Consider the complexity of the models. A more complex model may fit the data better but may also overfit the data. Therefore, it is better to choose a model that has a good balance between simplicity and performance.\n",
        "\n",
        "- **Interpretability**: Consider the interpretability of the models. Some models, such as decision trees, are more interpretable than others, such as neural networks. If interpretability is important for your application, it may be better to choose a more interpretable model.\n",
        "\n",
        "- **Runtime**: Consider the runtime of the models. Some models may take longer to train and predict than others. If runtime is a concern, it may be better to choose a model that is faster to train and predict.\n",
        "\n",
        "Overall, the choice of the final model should be based on a combination of the above factors, as well as the specific requirements and constraints of your application. Hence, there are are no strict rules of choosing the best model. It depends on the  dataset and the business problem at hand."
      ]
    },
    {
      "cell_type": "markdown",
      "metadata": {
        "id": "cmwRtweYPy5R"
      },
      "source": [
        "**Observations:**\n",
        "\n",
        "- Based on the results obtained after comparing all of the models, the **Random Forest Regressor** is the best-performing model.\n",
        "\n",
        "- The **Random Forest Regressor** has the **lowest RMSE and MAE**, indicating that the average difference between predicted and actual values is the smallest. It also has a **higher R-squared and Adjusted R-squared**, indicating that the model explains a significant proportion of the variance in the target variable. It also has a **low MAPE**, indicating that it has a small average percentage error.\n",
        "\n",
        "- Because the Random Forest model performs well on test data, it is not overfitting the training data. Random Forest is also less complex than boosting models such as XGBoost.\n",
        "\n",
        "- The Random Forest has a longer runtime in comparison to other models like Decision Tree. Hence, there is a trade-off between runtime and model performance. In this case, we are prioritizing the model performance over runtime, but other approaches are possible depending on the scenario.\n",
        "\n",
        "- Let's see if we can improve the model performance by **tuning the hyperparameters** of the Random Forest model. Hyperparameter tuning is a crucial step in machine learning as it helps **to optimize the model's performance** by finding the best set of hyperparameters that work well for the given dataset."
      ]
    },
    {
      "cell_type": "markdown",
      "metadata": {
        "id": "Hta4M90JPy5R"
      },
      "source": [
        "## **Tuning the Model**"
      ]
    },
    {
      "cell_type": "markdown",
      "metadata": {
        "id": "TKtesWIkPy5R"
      },
      "source": [
        "Tuning the hyperparameters of a machine learning model can help improve its performance. Here are some steps you can follow to tune the hyperparameters of your model:\n",
        "\n",
        "- **Identify the hyperparameters**: Before tuning the hyperparameters, it's important to identify the hyperparameters that can be tuned. In the case of the models you have built (Decision Trees, Bagging Regressor, Random Forest, AdaBoost, Gradient Boosting, XGBoost), some of the hyperparameters that can be tuned include the number of estimators, learning rate, maximum depth, minimum sample split, etc.\n",
        "\n",
        "- **Determine the range of values for each hyperparameter**: Once you have identified the hyperparameters, you need to determine the range of values that each hyperparameter can take. For example, you can set the range for the number of estimators to be between 50 and 200.\n",
        "\n",
        "- **Choose a method to search for the best hyperparameters**: There are different methods for searching for the best hyperparameters, such as grid search and randomized search. **Grid search** is a simple and exhaustive method that involves evaluating the model performance for all possible combinations of hyperparameters within the specified range. **Randomized search** is similar to grid search, but instead of evaluating all possible combinations, it evaluates a random subset of combinations.\n",
        "\n",
        "- **Train and evaluate the model with each combination of hyperparameters**: Once you have chosen a method to search for the best hyperparameters, you need to train and evaluate the model with each combination of hyperparameters within the specified range.\n",
        "\n",
        "- **Select the hyperparameters that give the best performance**: Finally, you need to select the hyperparameters that give the best performance on the validation set. You can then use these hyperparameters to train the model on the full training set and evaluate its performance on the test set.\n",
        "\n",
        "Overall, tuning the hyperparameters of a model can be a time-consuming process, but it can greatly improve the performance of the model."
      ]
    },
    {
      "cell_type": "markdown",
      "metadata": {
        "id": "T7RFrNUkPy5R"
      },
      "source": [
        "### **Tuned Random Forest Regressor**\n",
        "\n",
        "**Note:** Depending on the size of the dataset, the number of hyperparameters passed, the number of values passed for each hyperparameter, and the system's configuration, running the code below may take some time."
      ]
    },
    {
      "cell_type": "code",
      "execution_count": null,
      "metadata": {
        "ExecuteTime": {
          "start_time": "2023-03-30T07:17:11.070Z"
        },
        "id": "Eq6lYO_oPy5R",
        "outputId": "7de72421-90ce-4061-90aa-eeea2f449601"
      },
      "outputs": [
        {
          "data": {
            "text/html": [
              "<div>\n",
              "<style scoped>\n",
              "    .dataframe tbody tr th:only-of-type {\n",
              "        vertical-align: middle;\n",
              "    }\n",
              "\n",
              "    .dataframe tbody tr th {\n",
              "        vertical-align: top;\n",
              "    }\n",
              "\n",
              "    .dataframe thead th {\n",
              "        text-align: right;\n",
              "    }\n",
              "</style>\n",
              "<table border=\"1\" class=\"dataframe\">\n",
              "  <thead>\n",
              "    <tr style=\"text-align: right;\">\n",
              "      <th></th>\n",
              "      <th>RMSE</th>\n",
              "      <th>MAE</th>\n",
              "      <th>R-squared</th>\n",
              "      <th>Adj. R-squared</th>\n",
              "      <th>MAPE</th>\n",
              "    </tr>\n",
              "  </thead>\n",
              "  <tbody>\n",
              "    <tr>\n",
              "      <th>0</th>\n",
              "      <td>1.296477</td>\n",
              "      <td>0.860635</td>\n",
              "      <td>0.973309</td>\n",
              "      <td>0.973297</td>\n",
              "      <td>7.277295</td>\n",
              "    </tr>\n",
              "  </tbody>\n",
              "</table>\n",
              "</div>"
            ],
            "text/plain": [
              "       RMSE       MAE  R-squared  Adj. R-squared      MAPE\n",
              "0  1.296477  0.860635   0.973309        0.973297  7.277295"
            ]
          },
          "execution_count": 38,
          "metadata": {},
          "output_type": "execute_result"
        }
      ],
      "source": [
        "rf_tuned = RandomForestRegressor(random_state = 1)\n",
        "\n",
        "# Grid of parameters to choose from\n",
        "rf_parameters = {\"n_estimators\": [100, 110, 120],\n",
        "\n",
        "    \"max_depth\": [5, 7, None],\n",
        "\n",
        "    \"max_features\": [0.8, 1]\n",
        "             }\n",
        "\n",
        "# Run the grid search\n",
        "rf_grid_obj = GridSearchCV(rf_tuned, rf_parameters, scoring = 'neg_mean_squared_error', cv = 5)\n",
        "\n",
        "rf_grid_obj = rf_grid_obj.fit(x_train, y_train)\n",
        "\n",
        "# Set the rf_tuned_regressor to the best combination of parameters\n",
        "rf_tuned_regressor = rf_grid_obj.best_estimator_\n",
        "\n",
        "rf_tuned_regressor.fit(x_train, y_train)\n",
        "\n",
        "# Model Performance on the test data\n",
        "rf_tuned_regressor_perf_test = model_performance_regression(rf_tuned_regressor, x_test, y_test)\n",
        "\n",
        "rf_tuned_regressor_perf_test"
      ]
    },
    {
      "cell_type": "markdown",
      "metadata": {
        "id": "2JDGZXLFPy5R"
      },
      "source": [
        "## **Choosing the Final Model**"
      ]
    },
    {
      "cell_type": "code",
      "execution_count": null,
      "metadata": {
        "ExecuteTime": {
          "start_time": "2023-03-30T07:17:11.077Z"
        },
        "id": "pZvm4FG4Py5R",
        "outputId": "ddff053d-e0a8-411d-93a5-0b47141ba044"
      },
      "outputs": [
        {
          "name": "stdout",
          "output_type": "stream",
          "text": [
            "Test performance comparison:\n"
          ]
        },
        {
          "data": {
            "text/html": [
              "<div>\n",
              "<style scoped>\n",
              "    .dataframe tbody tr th:only-of-type {\n",
              "        vertical-align: middle;\n",
              "    }\n",
              "\n",
              "    .dataframe tbody tr th {\n",
              "        vertical-align: top;\n",
              "    }\n",
              "\n",
              "    .dataframe thead th {\n",
              "        text-align: right;\n",
              "    }\n",
              "</style>\n",
              "<table border=\"1\" class=\"dataframe\">\n",
              "  <thead>\n",
              "    <tr style=\"text-align: right;\">\n",
              "      <th></th>\n",
              "      <th>RMSE</th>\n",
              "      <th>MAE</th>\n",
              "      <th>R-squared</th>\n",
              "      <th>Adj. R-squared</th>\n",
              "      <th>MAPE</th>\n",
              "    </tr>\n",
              "  </thead>\n",
              "  <tbody>\n",
              "    <tr>\n",
              "      <th>Decision tree regressor</th>\n",
              "      <td>1.815150</td>\n",
              "      <td>1.128290</td>\n",
              "      <td>0.947680</td>\n",
              "      <td>0.947658</td>\n",
              "      <td>9.341248</td>\n",
              "    </tr>\n",
              "    <tr>\n",
              "      <th>Bagging Regressor</th>\n",
              "      <td>1.368940</td>\n",
              "      <td>0.905205</td>\n",
              "      <td>0.970242</td>\n",
              "      <td>0.970229</td>\n",
              "      <td>7.648842</td>\n",
              "    </tr>\n",
              "    <tr>\n",
              "      <th>Random Forest regressor</th>\n",
              "      <td>1.303684</td>\n",
              "      <td>0.865050</td>\n",
              "      <td>0.973011</td>\n",
              "      <td>0.973000</td>\n",
              "      <td>7.314995</td>\n",
              "    </tr>\n",
              "    <tr>\n",
              "      <th>Ada Boost Regressor</th>\n",
              "      <td>2.375388</td>\n",
              "      <td>1.586890</td>\n",
              "      <td>0.910399</td>\n",
              "      <td>0.910362</td>\n",
              "      <td>13.623722</td>\n",
              "    </tr>\n",
              "    <tr>\n",
              "      <th>Gradient Boosting Regressor</th>\n",
              "      <td>1.792721</td>\n",
              "      <td>1.212749</td>\n",
              "      <td>0.948965</td>\n",
              "      <td>0.948944</td>\n",
              "      <td>10.247284</td>\n",
              "    </tr>\n",
              "    <tr>\n",
              "      <th>XG Boost Regressor</th>\n",
              "      <td>1.507729</td>\n",
              "      <td>1.032744</td>\n",
              "      <td>0.963902</td>\n",
              "      <td>0.963886</td>\n",
              "      <td>8.873291</td>\n",
              "    </tr>\n",
              "    <tr>\n",
              "      <th>Random Forest Tuned Regressor</th>\n",
              "      <td>1.296477</td>\n",
              "      <td>0.860635</td>\n",
              "      <td>0.973309</td>\n",
              "      <td>0.973297</td>\n",
              "      <td>7.277295</td>\n",
              "    </tr>\n",
              "  </tbody>\n",
              "</table>\n",
              "</div>"
            ],
            "text/plain": [
              "                                   RMSE       MAE  R-squared  Adj. R-squared  \\\n",
              "Decision tree regressor        1.815150  1.128290   0.947680        0.947658   \n",
              "Bagging Regressor              1.368940  0.905205   0.970242        0.970229   \n",
              "Random Forest regressor        1.303684  0.865050   0.973011        0.973000   \n",
              "Ada Boost Regressor            2.375388  1.586890   0.910399        0.910362   \n",
              "Gradient Boosting Regressor    1.792721  1.212749   0.948965        0.948944   \n",
              "XG Boost Regressor             1.507729  1.032744   0.963902        0.963886   \n",
              "Random Forest Tuned Regressor  1.296477  0.860635   0.973309        0.973297   \n",
              "\n",
              "                                    MAPE  \n",
              "Decision tree regressor         9.341248  \n",
              "Bagging Regressor               7.648842  \n",
              "Random Forest regressor         7.314995  \n",
              "Ada Boost Regressor            13.623722  \n",
              "Gradient Boosting Regressor    10.247284  \n",
              "XG Boost Regressor              8.873291  \n",
              "Random Forest Tuned Regressor   7.277295  "
            ]
          },
          "execution_count": 40,
          "metadata": {},
          "output_type": "execute_result"
        }
      ],
      "source": [
        "models_test_comp_df = pd.concat(\n",
        "    [\n",
        "        dt_regressor_perf_test.T,\n",
        "        bagging_estimator_perf_test.T,\n",
        "        rf_regressor_perf_test.T,\n",
        "        ada_regressor_perf_test.T,\n",
        "        grad_regressor_perf_test.T,\n",
        "        xgb_perf_test.T,\n",
        "        rf_tuned_regressor_perf_test.T,\n",
        "    ],\n",
        "    axis = 1,\n",
        ")\n",
        "\n",
        "models_test_comp_df.columns = [\n",
        "    \"Decision tree regressor\",\n",
        "    \"Bagging Regressor\",\n",
        "    \"Random Forest regressor\",\n",
        "    \"Ada Boost Regressor\",\n",
        "    \"Gradient Boosting Regressor\",\n",
        "    \"XG Boost Regressor\",\n",
        "    \"Random Forest Tuned Regressor\"]\n",
        "\n",
        "print(\"Test performance comparison:\")\n",
        "\n",
        "models_test_comp_df.T"
      ]
    },
    {
      "cell_type": "markdown",
      "metadata": {
        "id": "9TbJWMeiPy5R"
      },
      "source": [
        "**Observations:**\n",
        "\n",
        "- After tuning, the performance of **Random Forest Tuned** model has slightly **improved in terms of RMSE and R-squared values**, as compared to the model with default value of the hyperparameters. Hence, we can choose the Random Forest Tuned model as the final model."
      ]
    },
    {
      "cell_type": "markdown",
      "metadata": {
        "id": "9R8DuZjiPy5R"
      },
      "source": [
        "## **Visualizing the Feature Importance**"
      ]
    },
    {
      "cell_type": "code",
      "execution_count": null,
      "metadata": {
        "ExecuteTime": {
          "end_time": "2023-03-10T20:08:53.740682Z",
          "start_time": "2023-03-10T20:08:53.350411Z"
        },
        "id": "mv26Yg0oPy5R",
        "outputId": "0a8e295d-7f74-45d9-8a00-84a7b3c60039"
      },
      "outputs": [
        {
          "data": {
            "image/png": "[encoded data removed]",
            "text/plain": [
              "<Figure size 1000x1000 with 1 Axes>"
            ]
          },
          "metadata": {},
          "output_type": "display_data"
        }
      ],
      "source": [
        "# Plotting the feature importance\n",
        "features = list(x.columns)\n",
        "\n",
        "importances = rf_tuned_regressor.feature_importances_\n",
        "\n",
        "indices = np.argsort(importances)\n",
        "\n",
        "plt.figure(figsize = (10, 10))\n",
        "\n",
        "plt.title('Feature Importances')\n",
        "\n",
        "plt.barh(range(len(indices)), importances[indices], color = 'violet', align = 'center')\n",
        "\n",
        "plt.yticks(range(len(indices)), [features[i] for i in indices])\n",
        "\n",
        "plt.xlabel('Relative Importance')\n",
        "\n",
        "plt.show()"
      ]
    },
    {
      "cell_type": "markdown",
      "metadata": {
        "id": "ha6-zo7zPy5S"
      },
      "source": [
        "**Observations:**\n",
        "\n",
        "- **The most important features** are Department_gynecology, Age_41_50, and Age_31_40, followed by Department_anesthesia, Department_radiotherapy, and Admission_Deposit.\n",
        "- The rest of the variables have little or no influence on the length of stay in the hospital in this model."
      ]
    },
    {
      "cell_type": "markdown",
      "metadata": {
        "id": "_oq4AfUDPy5S"
      },
      "source": [
        "## **Business Insights and Recommendations**"
      ]
    },
    {
      "cell_type": "markdown",
      "metadata": {
        "id": "nIJXy-xZPy5S"
      },
      "source": [
        "- Gynecology is the busiest department of the hospital and it handles 68.7% of the total number of patients. It needs ample resources and staff for the smooth functioning of the department.\n",
        "- The maximum number of visitors can go up to 32 which is very high. A restriction can be imposed on this.\n",
        "- 74.2% of the patients are female. Thus, resources need to be procured while keeping this figure in mind.\n",
        "- A large percentage of patients (89.3%) are in trauma or emergency during admission. An increase in ambulances and emergency rooms can reduce the risk of casualties.\n",
        "- Ward A has the most number of patients who stay for the longest and the most serious patients. These wards can be equipped with more resources and staff to reduce the length of stay of these patients.\n",
        "- Elderly patients (51-100) and children (1-10) stay for the longest. Extra attention to these age groups can lead to a faster discharge from the hospital.\n",
        "- Wards D, E, and C have the most visitors with a patient. These wards will need more space and amenities like washrooms, shops, and lobbies for the visitors. Spaces can also be rented out to shop owners and advertisements to generate extra income.\n",
        "- Finally, the Random Forest Regressor can predict the length of stay of the patient with just an error of 1 day. The hospital can use these predictions to allocate the resources and staff accordingly and reduce any kind of wastage. The hospital can also allocate the wards and doctors accordingly to optimize admissions even during emergencies."
      ]
    },
    {
      "cell_type": "markdown",
      "metadata": {
        "id": "5pmEWFpTPy5S"
      },
      "source": [
        "## **Next Steps**\n",
        "\n",
        "- The next step is creating a pipeline that includes a Column Transformer to preprocess the data and a model that has been trained on the data.  This pipeline can be used in future applications or as a starting point for further model development.\n",
        "\n",
        "- Using a pipeline with a Column Transformer is a common practice in machine learning to ensure that data preprocessing is consistent and can be easily reproduced. The pipeline will take care of data preprocessing and model training in a single step, making it easy to use the model in other applications.\n",
        "\n",
        "- Saving the trained model in the Pickle format allows for easy serialization and deserialization of the model, making it possible to use the model in other applications without needing to retrain it. This is particularly useful when working with large datasets or models that take a long time to train."
      ]
    }
  ],
  "metadata": {
    "accelerator": "GPU",
    "colab": {
      "provenance": [],
      "include_colab_link": true
    },
    "hide_input": false,
    "kernelspec": {
      "display_name": "Python 3 (ipykernel)",
      "language": "python",
      "name": "python3"
    },
    "language_info": {
      "codemirror_mode": {
        "name": "ipython",
        "version": 3
      },
      "file_extension": ".py",
      "mimetype": "text/x-python",
      "name": "python",
      "nbconvert_exporter": "python",
      "pygments_lexer": "ipython3",
      "version": "3.9.7"
    },
    "latex_envs": {
      "LaTeX_envs_menu_present": true,
      "autoclose": false,
      "autocomplete": true,
      "bibliofile": "biblio.bib",
      "cite_by": "apalike",
      "current_citInitial": 1,
      "eqLabelWithNumbers": true,
      "eqNumInitial": 1,
      "hotkeys": {
        "equation": "Ctrl-E",
        "itemize": "Ctrl-I"
      },
      "labels_anchors": false,
      "latex_user_defs": false,
      "report_style_numbering": false,
      "user_envs_cfg": false
    },
    "toc": {
      "base_numbering": 1,
      "nav_menu": {},
      "number_sections": true,
      "sideBar": true,
      "skip_h1_title": false,
      "title_cell": "Table of Contents",
      "title_sidebar": "Contents",
      "toc_cell": false,
      "toc_position": {},
      "toc_section_display": true,
      "toc_window_display": false
    },
    "varInspector": {
      "cols": {
        "lenName": 16,
        "lenType": 16,
        "lenVar": 40
      },
      "kernels_config": {
        "python": {
          "delete_cmd_postfix": "",
          "delete_cmd_prefix": "del ",
          "library": "var_list.py",
          "varRefreshCmd": "print(var_dic_list())"
        },
        "r": {
          "delete_cmd_postfix": ") ",
          "delete_cmd_prefix": "rm(",
          "library": "var_list.r",
          "varRefreshCmd": "cat(var_dic_list()) "
        }
      },
      "types_to_exclude": [
        "module",
        "function",
        "builtin_function_or_method",
        "instance",
        "_Feature"
      ],
      "window_display": false
    }
  },
  "nbformat": 4,
  "nbformat_minor": 0
}